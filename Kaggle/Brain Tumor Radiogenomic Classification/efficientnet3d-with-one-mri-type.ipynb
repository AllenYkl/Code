{
 "cells": [
  {
   "cell_type": "code",
   "execution_count": 1,
   "id": "e44a4096",
   "metadata": {
    "execution": {
     "iopub.execute_input": "2021-10-14T20:15:04.092276Z",
     "iopub.status.busy": "2021-10-14T20:15:04.090258Z",
     "iopub.status.idle": "2021-10-14T20:15:07.065925Z",
     "shell.execute_reply": "2021-10-14T20:15:07.064730Z",
     "shell.execute_reply.started": "2021-10-14T20:03:24.843306Z"
    },
    "papermill": {
     "duration": 3.003224,
     "end_time": "2021-10-14T20:15:07.066118",
     "exception": false,
     "start_time": "2021-10-14T20:15:04.062894",
     "status": "completed"
    },
    "tags": [],
    "pycharm": {
     "name": "#%%\n"
    }
   },
   "outputs": [],
   "source": [
    "import os\n",
    "import sys \n",
    "import json\n",
    "import glob\n",
    "import random\n",
    "import collections\n",
    "import time\n",
    "import re\n",
    "\n",
    "import numpy as np\n",
    "import pandas as pd\n",
    "import pydicom\n",
    "from pydicom.pixel_data_handlers.util import apply_voi_lut\n",
    "import cv2\n",
    "import matplotlib.pyplot as plt\n",
    "import seaborn as sns\n",
    "\n",
    "import torch\n",
    "from torch import nn\n",
    "from torch.utils import data as torch_data\n",
    "from sklearn import model_selection as sk_model_selection\n",
    "from torch.nn import functional as torch_functional\n",
    "import torch.nn.functional as F\n",
    "\n",
    "from sklearn.model_selection import StratifiedKFold\n",
    "from sklearn.metrics import roc_auc_score"
   ]
  },
  {
   "cell_type": "code",
   "execution_count": 2,
   "id": "c2011821",
   "metadata": {
    "execution": {
     "iopub.execute_input": "2021-10-14T20:15:07.116520Z",
     "iopub.status.busy": "2021-10-14T20:15:07.115861Z",
     "iopub.status.idle": "2021-10-14T20:15:07.164880Z",
     "shell.execute_reply": "2021-10-14T20:15:07.164217Z",
     "shell.execute_reply.started": "2021-10-14T20:03:24.853112Z"
    },
    "lines_to_end_of_cell_marker": 2,
    "lines_to_next_cell": 2,
    "papermill": {
     "duration": 0.077416,
     "end_time": "2021-10-14T20:15:07.165054",
     "exception": false,
     "start_time": "2021-10-14T20:15:07.087638",
     "status": "completed"
    },
    "tags": [],
    "pycharm": {
     "name": "#%%\n"
    }
   },
   "outputs": [],
   "source": [
    "if os.path.exists(\"../input/rsna-miccai-brain-tumor-radiogenomic-classification\"):\n",
    "    data_directory = '../input/rsna-miccai-brain-tumor-radiogenomic-classification'\n",
    "    pytorch3dpath = \"../input/efficientnetpyttorch3d/EfficientNet-PyTorch-3D\"\n",
    "else:\n",
    "    data_directory = '/media/roland/data/kaggle/rsna-miccai-brain-tumor-radiogenomic-classification'\n",
    "    pytorch3dpath = \"EfficientNet-PyTorch-3D\"\n",
    "    \n",
    "mri_types = ['FLAIR','T1w','T1wCE','T2w']\n",
    "SIZE = 128\n",
    "NUM_IMAGES = 64\n",
    "\n",
    "sys.path.append(pytorch3dpath)\n",
    "from efficientnet_pytorch_3d import EfficientNet3D"
   ]
  },
  {
   "cell_type": "markdown",
   "id": "c43e7914",
   "metadata": {
    "papermill": {
     "duration": 0.02105,
     "end_time": "2021-10-14T20:15:07.208178",
     "exception": false,
     "start_time": "2021-10-14T20:15:07.187128",
     "status": "completed"
    },
    "tags": [],
    "pycharm": {
     "name": "#%% md\n"
    }
   },
   "source": [
    "## Functions to load images"
   ]
  },
  {
   "cell_type": "code",
   "execution_count": 3,
   "id": "87b69429",
   "metadata": {
    "execution": {
     "iopub.execute_input": "2021-10-14T20:15:07.264639Z",
     "iopub.status.busy": "2021-10-14T20:15:07.263870Z",
     "iopub.status.idle": "2021-10-14T20:15:08.264355Z",
     "shell.execute_reply": "2021-10-14T20:15:08.263559Z",
     "shell.execute_reply.started": "2021-10-14T20:03:24.871935Z"
    },
    "papermill": {
     "duration": 1.034558,
     "end_time": "2021-10-14T20:15:08.264535",
     "exception": false,
     "start_time": "2021-10-14T20:15:07.229977",
     "status": "completed"
    },
    "tags": [],
    "pycharm": {
     "name": "#%%\n"
    }
   },
   "outputs": [
    {
     "name": "stdout",
     "output_type": "stream",
     "text": [
      "(1, 128, 128, 64)\n",
      "0.0 1.0 0.07992366480843072 0.00023943086165344952\n"
     ]
    }
   ],
   "source": [
    "def Load_dicom_image(path, img_size=SIZE, voi_lut=True, rotate=0):\n",
    "    dicom = pydicom.read_file(path)\n",
    "    data = dicom.pixel_array\n",
    "    if voi_lut:\n",
    "        data = apply_voi_lut(dicom.pixel_array, dicom)\n",
    "    else:\n",
    "        data = dicom.pixel_array\n",
    "        \n",
    "    if rotate > 0:\n",
    "        rot_choices = [0, cv2.ROTATE_90_CLOCKWISE, cv2.ROTATE_90_COUNTERCLOCKWISE, cv2.ROTATE_180]\n",
    "        data = cv2.rotate(data, rot_choices[rotate])\n",
    "        \n",
    "    data = cv2.resize(data, (img_size, img_size))\n",
    "    return data\n",
    "\n",
    "\n",
    "def Load_dicom_images_3d(scan_id, num_imgs=NUM_IMAGES, img_size=SIZE, mri_type=\"FLAIR\", split=\"train\", rotate=0):\n",
    "\n",
    "    files = sorted(glob.glob(f\"{data_directory}/{split}/{scan_id}/{mri_type}/*.dcm\"), \n",
    "               key=lambda var:[int(x) if x.isdigit() else x for x in re.findall(r'[^0-9]|[0-9]+', var)])\n",
    "\n",
    "    middle = len(files)//2\n",
    "    num_imgs2 = num_imgs//2\n",
    "    p1 = max(0, middle - num_imgs2)\n",
    "    p2 = min(len(files), middle + num_imgs2)\n",
    "    img3d = np.stack([Load_dicom_image(f, rotate=rotate) for f in files[p1:p2]]).T \n",
    "    if img3d.shape[-1] < num_imgs:\n",
    "        n_zero = np.zeros((img_size, img_size, num_imgs - img3d.shape[-1]))\n",
    "        img3d = np.concatenate((img3d,  n_zero), axis = -1)\n",
    "        \n",
    "    if np.min(img3d) < np.max(img3d):\n",
    "        img3d = img3d - np.min(img3d)\n",
    "        img3d = img3d / np.max(img3d)\n",
    "            \n",
    "    return np.expand_dims(img3d,0)\n",
    "\n",
    "a = Load_dicom_images_3d(\"00000\")\n",
    "print(a.shape)\n",
    "print(np.min(a), np.max(a), np.mean(a), np.median(a))"
   ]
  },
  {
   "cell_type": "code",
   "execution_count": 4,
   "id": "3713701e",
   "metadata": {
    "execution": {
     "iopub.execute_input": "2021-10-14T20:15:08.314695Z",
     "iopub.status.busy": "2021-10-14T20:15:08.313810Z",
     "iopub.status.idle": "2021-10-14T20:15:08.366254Z",
     "shell.execute_reply": "2021-10-14T20:15:08.365305Z",
     "shell.execute_reply.started": "2021-10-14T20:03:25.886007Z"
    },
    "papermill": {
     "duration": 0.079651,
     "end_time": "2021-10-14T20:15:08.366390",
     "exception": false,
     "start_time": "2021-10-14T20:15:08.286739",
     "status": "completed"
    },
    "tags": [],
    "pycharm": {
     "name": "#%%\n"
    }
   },
   "outputs": [],
   "source": [
    "def set_seed(seed):\n",
    "    random.seed(seed)\n",
    "    os.environ[\"PYTHONHASHSEED\"] = str(seed)\n",
    "    np.random.seed(seed)\n",
    "    torch.manual_seed(seed)\n",
    "    if torch.cuda.is_available():\n",
    "        torch.cuda.manual_seed_all(seed)\n",
    "        torch.backends.cudnn.deterministic = True\n",
    "\n",
    "set_seed(99)"
   ]
  },
  {
   "cell_type": "markdown",
   "id": "1b59a6ab",
   "metadata": {
    "papermill": {
     "duration": 0.020695,
     "end_time": "2021-10-14T20:15:08.409518",
     "exception": false,
     "start_time": "2021-10-14T20:15:08.388823",
     "status": "completed"
    },
    "tags": [],
    "pycharm": {
     "name": "#%% md\n"
    }
   },
   "source": [
    "## train / test splits"
   ]
  },
  {
   "cell_type": "code",
   "execution_count": 5,
   "id": "ec4b40fc",
   "metadata": {
    "execution": {
     "iopub.execute_input": "2021-10-14T20:15:08.458230Z",
     "iopub.status.busy": "2021-10-14T20:15:08.457297Z",
     "iopub.status.idle": "2021-10-14T20:15:08.496608Z",
     "shell.execute_reply": "2021-10-14T20:15:08.497157Z",
     "shell.execute_reply.started": "2021-10-14T20:03:25.895039Z"
    },
    "papermill": {
     "duration": 0.066777,
     "end_time": "2021-10-14T20:15:08.497353",
     "exception": false,
     "start_time": "2021-10-14T20:15:08.430576",
     "status": "completed"
    },
    "tags": [],
    "pycharm": {
     "name": "#%%\n"
    }
   },
   "outputs": [
    {
     "data": {
      "text/html": [
       "<div>\n",
       "<style scoped>\n",
       "    .dataframe tbody tr th:only-of-type {\n",
       "        vertical-align: middle;\n",
       "    }\n",
       "\n",
       "    .dataframe tbody tr th {\n",
       "        vertical-align: top;\n",
       "    }\n",
       "\n",
       "    .dataframe thead th {\n",
       "        text-align: right;\n",
       "    }\n",
       "</style>\n",
       "<table border=\"1\" class=\"dataframe\">\n",
       "  <thead>\n",
       "    <tr style=\"text-align: right;\">\n",
       "      <th></th>\n",
       "      <th>BraTS21ID</th>\n",
       "      <th>MGMT_value</th>\n",
       "    </tr>\n",
       "  </thead>\n",
       "  <tbody>\n",
       "    <tr>\n",
       "      <th>0</th>\n",
       "      <td>0</td>\n",
       "      <td>1</td>\n",
       "    </tr>\n",
       "    <tr>\n",
       "      <th>1</th>\n",
       "      <td>2</td>\n",
       "      <td>1</td>\n",
       "    </tr>\n",
       "    <tr>\n",
       "      <th>2</th>\n",
       "      <td>3</td>\n",
       "      <td>0</td>\n",
       "    </tr>\n",
       "    <tr>\n",
       "      <th>3</th>\n",
       "      <td>5</td>\n",
       "      <td>1</td>\n",
       "    </tr>\n",
       "    <tr>\n",
       "      <th>4</th>\n",
       "      <td>6</td>\n",
       "      <td>1</td>\n",
       "    </tr>\n",
       "    <tr>\n",
       "      <th>...</th>\n",
       "      <td>...</td>\n",
       "      <td>...</td>\n",
       "    </tr>\n",
       "    <tr>\n",
       "      <th>580</th>\n",
       "      <td>1005</td>\n",
       "      <td>1</td>\n",
       "    </tr>\n",
       "    <tr>\n",
       "      <th>581</th>\n",
       "      <td>1007</td>\n",
       "      <td>1</td>\n",
       "    </tr>\n",
       "    <tr>\n",
       "      <th>582</th>\n",
       "      <td>1008</td>\n",
       "      <td>1</td>\n",
       "    </tr>\n",
       "    <tr>\n",
       "      <th>583</th>\n",
       "      <td>1009</td>\n",
       "      <td>0</td>\n",
       "    </tr>\n",
       "    <tr>\n",
       "      <th>584</th>\n",
       "      <td>1010</td>\n",
       "      <td>0</td>\n",
       "    </tr>\n",
       "  </tbody>\n",
       "</table>\n",
       "<p>585 rows × 2 columns</p>\n",
       "</div>"
      ],
      "text/plain": [
       "     BraTS21ID  MGMT_value\n",
       "0            0           1\n",
       "1            2           1\n",
       "2            3           0\n",
       "3            5           1\n",
       "4            6           1\n",
       "..         ...         ...\n",
       "580       1005           1\n",
       "581       1007           1\n",
       "582       1008           1\n",
       "583       1009           0\n",
       "584       1010           0\n",
       "\n",
       "[585 rows x 2 columns]"
      ]
     },
     "metadata": {},
     "output_type": "display_data"
    }
   ],
   "source": [
    "train_df = pd.read_csv(f\"{data_directory}/train_labels.csv\")\n",
    "display(train_df)\n",
    "\n",
    "df_train, df_valid = sk_model_selection.train_test_split(\n",
    "    train_df, \n",
    "    test_size=0.2, \n",
    "    random_state=24, \n",
    "    stratify=train_df[\"MGMT_value\"],\n",
    ")\n"
   ]
  },
  {
   "cell_type": "code",
   "execution_count": 6,
   "id": "ee05197b",
   "metadata": {
    "execution": {
     "iopub.execute_input": "2021-10-14T20:15:08.551230Z",
     "iopub.status.busy": "2021-10-14T20:15:08.550268Z",
     "iopub.status.idle": "2021-10-14T20:15:08.556741Z",
     "shell.execute_reply": "2021-10-14T20:15:08.556171Z",
     "shell.execute_reply.started": "2021-10-14T20:03:25.925387Z"
    },
    "papermill": {
     "duration": 0.036881,
     "end_time": "2021-10-14T20:15:08.556869",
     "exception": false,
     "start_time": "2021-10-14T20:15:08.519988",
     "status": "completed"
    },
    "tags": [],
    "pycharm": {
     "name": "#%%\n"
    }
   },
   "outputs": [
    {
     "data": {
      "text/html": [
       "<div>\n",
       "<style scoped>\n",
       "    .dataframe tbody tr th:only-of-type {\n",
       "        vertical-align: middle;\n",
       "    }\n",
       "\n",
       "    .dataframe tbody tr th {\n",
       "        vertical-align: top;\n",
       "    }\n",
       "\n",
       "    .dataframe thead th {\n",
       "        text-align: right;\n",
       "    }\n",
       "</style>\n",
       "<table border=\"1\" class=\"dataframe\">\n",
       "  <thead>\n",
       "    <tr style=\"text-align: right;\">\n",
       "      <th></th>\n",
       "      <th>BraTS21ID</th>\n",
       "      <th>MGMT_value</th>\n",
       "    </tr>\n",
       "  </thead>\n",
       "  <tbody>\n",
       "    <tr>\n",
       "      <th>68</th>\n",
       "      <td>106</td>\n",
       "      <td>1</td>\n",
       "    </tr>\n",
       "    <tr>\n",
       "      <th>547</th>\n",
       "      <td>801</td>\n",
       "      <td>1</td>\n",
       "    </tr>\n",
       "    <tr>\n",
       "      <th>101</th>\n",
       "      <td>151</td>\n",
       "      <td>0</td>\n",
       "    </tr>\n",
       "    <tr>\n",
       "      <th>498</th>\n",
       "      <td>729</td>\n",
       "      <td>0</td>\n",
       "    </tr>\n",
       "    <tr>\n",
       "      <th>537</th>\n",
       "      <td>789</td>\n",
       "      <td>1</td>\n",
       "    </tr>\n",
       "  </tbody>\n",
       "</table>\n",
       "</div>"
      ],
      "text/plain": [
       "     BraTS21ID  MGMT_value\n",
       "68         106           1\n",
       "547        801           1\n",
       "101        151           0\n",
       "498        729           0\n",
       "537        789           1"
      ]
     },
     "execution_count": 6,
     "metadata": {},
     "output_type": "execute_result"
    }
   ],
   "source": [
    "df_train.tail()"
   ]
  },
  {
   "cell_type": "markdown",
   "id": "5cb91e7c",
   "metadata": {
    "papermill": {
     "duration": 0.022765,
     "end_time": "2021-10-14T20:15:08.602668",
     "exception": false,
     "start_time": "2021-10-14T20:15:08.579903",
     "status": "completed"
    },
    "tags": [],
    "pycharm": {
     "name": "#%% md\n"
    }
   },
   "source": [
    "## Model and training classes"
   ]
  },
  {
   "cell_type": "code",
   "execution_count": 7,
   "id": "ae5cc6ce",
   "metadata": {
    "execution": {
     "iopub.execute_input": "2021-10-14T20:15:08.659785Z",
     "iopub.status.busy": "2021-10-14T20:15:08.658758Z",
     "iopub.status.idle": "2021-10-14T20:15:08.662626Z",
     "shell.execute_reply": "2021-10-14T20:15:08.662038Z",
     "shell.execute_reply.started": "2021-10-14T20:03:25.935922Z"
    },
    "papermill": {
     "duration": 0.037742,
     "end_time": "2021-10-14T20:15:08.662772",
     "exception": false,
     "start_time": "2021-10-14T20:15:08.625030",
     "status": "completed"
    },
    "tags": [],
    "pycharm": {
     "name": "#%%\n"
    }
   },
   "outputs": [],
   "source": [
    "class Dataset(torch_data.Dataset):\n",
    "    def __init__(self, paths, targets=None, mri_type=None, label_smoothing=0.01, split=\"train\", augment=False):\n",
    "        self.paths = paths\n",
    "        self.targets = targets\n",
    "        self.mri_type = mri_type\n",
    "        self.label_smoothing = label_smoothing\n",
    "        self.split = split\n",
    "        self.augment = augment\n",
    "          \n",
    "    def __len__(self):\n",
    "        return len(self.paths)\n",
    "    \n",
    "    def __getitem__(self, index):\n",
    "        scan_id = self.paths[index]\n",
    "        if self.targets is None:\n",
    "            data = Load_dicom_images_3d(str(scan_id).zfill(5), mri_type=self.mri_type[index], split=self.split)\n",
    "        else:\n",
    "            if self.augment:\n",
    "                rotation = np.random.randint(0,4)\n",
    "            else:\n",
    "                rotation = 0\n",
    "\n",
    "            data = Load_dicom_images_3d(str(scan_id).zfill(5), mri_type=self.mri_type[index], split=\"train\", rotate=rotation)\n",
    "\n",
    "        if self.targets is None:\n",
    "            return {\"X\": torch.tensor(data).float(), \"id\": scan_id}\n",
    "        else:\n",
    "            y = torch.tensor(abs(self.targets[index]-self.label_smoothing), dtype=torch.float)\n",
    "            return {\"X\": torch.tensor(data).float(), \"y\": y}\n"
   ]
  },
  {
   "cell_type": "code",
   "execution_count": 8,
   "id": "6e05a931",
   "metadata": {
    "execution": {
     "iopub.execute_input": "2021-10-14T20:15:08.714245Z",
     "iopub.status.busy": "2021-10-14T20:15:08.713520Z",
     "iopub.status.idle": "2021-10-14T20:15:08.718624Z",
     "shell.execute_reply": "2021-10-14T20:15:08.718101Z",
     "shell.execute_reply.started": "2021-10-14T20:03:25.953122Z"
    },
    "papermill": {
     "duration": 0.03376,
     "end_time": "2021-10-14T20:15:08.718755",
     "exception": false,
     "start_time": "2021-10-14T20:15:08.684995",
     "status": "completed"
    },
    "tags": [],
    "pycharm": {
     "name": "#%%\n"
    }
   },
   "outputs": [],
   "source": [
    "class Model(nn.Module):\n",
    "    def __init__(self):\n",
    "        super().__init__()\n",
    "        self.net = EfficientNet3D.from_name(\"efficientnet-b0\", override_params={'num_classes': 2}, in_channels=1)\n",
    "        n_features = self.net._fc.in_features\n",
    "        self.net._fc = nn.Linear(in_features=n_features, out_features=1, bias=True)\n",
    "    \n",
    "    def forward(self, x):\n",
    "        out = self.net(x)\n",
    "        return out\n",
    "    "
   ]
  },
  {
   "cell_type": "code",
   "execution_count": 9,
   "id": "e29e1f4b",
   "metadata": {
    "execution": {
     "iopub.execute_input": "2021-10-14T20:15:08.777549Z",
     "iopub.status.busy": "2021-10-14T20:15:08.772106Z",
     "iopub.status.idle": "2021-10-14T20:15:08.790563Z",
     "shell.execute_reply": "2021-10-14T20:15:08.791149Z",
     "shell.execute_reply.started": "2021-10-14T20:03:25.963295Z"
    },
    "papermill": {
     "duration": 0.050147,
     "end_time": "2021-10-14T20:15:08.791298",
     "exception": false,
     "start_time": "2021-10-14T20:15:08.741151",
     "status": "completed"
    },
    "tags": [],
    "pycharm": {
     "name": "#%%\n"
    }
   },
   "outputs": [],
   "source": [
    "class Trainer:\n",
    "    def __init__(\n",
    "        self, \n",
    "        model, \n",
    "        device, \n",
    "        optimizer, \n",
    "        criterion\n",
    "    ):\n",
    "        self.model = model\n",
    "        self.device = device\n",
    "        self.optimizer = optimizer\n",
    "        self.criterion = criterion\n",
    "\n",
    "        self.best_valid_score = np.inf\n",
    "        self.n_patience = 0\n",
    "        self.lastmodel = None\n",
    "        \n",
    "    def fit(self, epochs, train_loader, valid_loader, save_path, patience):        \n",
    "        for n_epoch in range(1, epochs + 1):\n",
    "            self.info_message(\"EPOCH: {}\", n_epoch)\n",
    "            \n",
    "            train_loss, train_time = self.train_epoch(train_loader)\n",
    "            valid_loss, valid_auc, valid_time = self.valid_epoch(valid_loader)\n",
    "            \n",
    "            self.info_message(\n",
    "                \"[Epoch Train: {}] loss: {:.4f}, time: {:.2f} s            \",\n",
    "                n_epoch, train_loss, train_time\n",
    "            )\n",
    "            \n",
    "            self.info_message(\n",
    "                \"[Epoch Valid: {}] loss: {:.4f}, auc: {:.4f}, time: {:.2f} s\",\n",
    "                n_epoch, valid_loss, valid_auc, valid_time\n",
    "            )\n",
    "\n",
    "            # if True:\n",
    "            # if self.best_valid_score < valid_auc: \n",
    "            if self.best_valid_score > valid_loss: \n",
    "                self.save_model(n_epoch, save_path, valid_loss, valid_auc)\n",
    "                self.info_message(\n",
    "                     \"auc improved from {:.4f} to {:.4f}. Saved model to '{}'\", \n",
    "                    self.best_valid_score, valid_loss, self.lastmodel\n",
    "                )\n",
    "                self.best_valid_score = valid_loss\n",
    "                self.n_patience = 0\n",
    "            else:\n",
    "                self.n_patience += 1\n",
    "            \n",
    "            if self.n_patience >= patience:\n",
    "                self.info_message(\"\\nValid auc didn't improve last {} epochs.\", patience)\n",
    "                break\n",
    "            \n",
    "    def train_epoch(self, train_loader):\n",
    "        self.model.train()\n",
    "        t = time.time()\n",
    "        sum_loss = 0\n",
    "\n",
    "        for step, batch in enumerate(train_loader, 1):\n",
    "            X = batch[\"X\"].to(self.device)\n",
    "            targets = batch[\"y\"].to(self.device)\n",
    "            self.optimizer.zero_grad()\n",
    "            outputs = self.model(X).squeeze(1)\n",
    "            \n",
    "            loss = self.criterion(outputs, targets)\n",
    "            loss.backward()\n",
    "\n",
    "            sum_loss += loss.detach().item()\n",
    "\n",
    "            self.optimizer.step()\n",
    "            \n",
    "            message = 'Train Step {}/{}, train_loss: {:.4f}'\n",
    "            self.info_message(message, step, len(train_loader), sum_loss/step, end=\"\\r\")\n",
    "        \n",
    "        return sum_loss/len(train_loader), int(time.time() - t)\n",
    "    \n",
    "    def valid_epoch(self, valid_loader):\n",
    "        self.model.eval()\n",
    "        t = time.time()\n",
    "        sum_loss = 0\n",
    "        y_all = []\n",
    "        outputs_all = []\n",
    "\n",
    "        for step, batch in enumerate(valid_loader, 1):\n",
    "            with torch.no_grad():\n",
    "                X = batch[\"X\"].to(self.device)\n",
    "                targets = batch[\"y\"].to(self.device)\n",
    "\n",
    "                outputs = self.model(X).squeeze(1)\n",
    "                loss = self.criterion(outputs, targets)\n",
    "\n",
    "                sum_loss += loss.detach().item()\n",
    "                y_all.extend(batch[\"y\"].tolist())\n",
    "                outputs_all.extend(outputs.tolist())\n",
    "\n",
    "            message = 'Valid Step {}/{}, valid_loss: {:.4f}'\n",
    "            self.info_message(message, step, len(valid_loader), sum_loss/step, end=\"\\r\")\n",
    "            \n",
    "        y_all = [1 if x > 0.5 else 0 for x in y_all]\n",
    "        auc = roc_auc_score(y_all, outputs_all)\n",
    "        \n",
    "        return sum_loss/len(valid_loader), auc, int(time.time() - t)\n",
    "    \n",
    "    def save_model(self, n_epoch, save_path, loss, auc):\n",
    "        self.lastmodel = f\"{save_path}-e{n_epoch}-loss{loss:.3f}-auc{auc:.3f}.pth\"\n",
    "        torch.save(\n",
    "            {\n",
    "                \"model_state_dict\": self.model.state_dict(),\n",
    "                \"optimizer_state_dict\": self.optimizer.state_dict(),\n",
    "                \"best_valid_score\": self.best_valid_score,\n",
    "                \"n_epoch\": n_epoch,\n",
    "            },\n",
    "            self.lastmodel,\n",
    "        )\n",
    "    \n",
    "    @staticmethod\n",
    "    def info_message(message, *args, end=\"\\n\"):\n",
    "        print(message.format(*args), end=end)"
   ]
  },
  {
   "cell_type": "markdown",
   "id": "2118d232",
   "metadata": {
    "papermill": {
     "duration": 0.022142,
     "end_time": "2021-10-14T20:15:08.835835",
     "exception": false,
     "start_time": "2021-10-14T20:15:08.813693",
     "status": "completed"
    },
    "tags": [],
    "pycharm": {
     "name": "#%% md\n"
    }
   },
   "source": [
    "## train models"
   ]
  },
  {
   "cell_type": "code",
   "execution_count": 10,
   "id": "f007dd6a",
   "metadata": {
    "execution": {
     "iopub.execute_input": "2021-10-14T20:15:08.897051Z",
     "iopub.status.busy": "2021-10-14T20:15:08.896062Z",
     "iopub.status.idle": "2021-10-14T20:15:08.899870Z",
     "shell.execute_reply": "2021-10-14T20:15:08.899317Z",
     "shell.execute_reply.started": "2021-10-14T20:03:25.990779Z"
    },
    "lines_to_next_cell": 2,
    "papermill": {
     "duration": 0.041963,
     "end_time": "2021-10-14T20:15:08.900016",
     "exception": false,
     "start_time": "2021-10-14T20:15:08.858053",
     "status": "completed"
    },
    "tags": [],
    "pycharm": {
     "name": "#%%\n"
    }
   },
   "outputs": [],
   "source": [
    "modelfiles=['../input/final-models/FLAIR-e2-loss0.691-auc0.583.pth', '../input/final-models/T1w-e3-loss0.691-auc0.451.pth', '../input/final-models/T1wCE-e6-loss0.690-auc0.576.pth', '../input/final-models/T2w-e6-loss0.690-auc0.522.pth']\n",
    "device = torch.device(\"cuda\" if torch.cuda.is_available() else \"cpu\")\n",
    "\n",
    "def train_mri_type(df_train, df_valid, mri_type):\n",
    "    if mri_type==\"all\":\n",
    "        train_list = []\n",
    "        valid_list = []\n",
    "        for mri_type in mri_types:\n",
    "            df_train.loc[:,\"MRI_Type\"] = mri_type\n",
    "            train_list.append(df_train.copy())\n",
    "            df_valid.loc[:,\"MRI_Type\"] = mri_type\n",
    "            valid_list.append(df_valid.copy())\n",
    "\n",
    "        df_train = pd.concat(train_list)\n",
    "        df_valid = pd.concat(valid_list)\n",
    "    else:\n",
    "        df_train.loc[:,\"MRI_Type\"] = mri_type\n",
    "        df_valid.loc[:,\"MRI_Type\"] = mri_type\n",
    "\n",
    "    print(df_train.shape, df_valid.shape)\n",
    "    display(df_train.head())\n",
    "    \n",
    "    train_data_retriever = Dataset(\n",
    "        df_train[\"BraTS21ID\"].values, \n",
    "        df_train[\"MGMT_value\"].values, \n",
    "        df_train[\"MRI_Type\"].values,\n",
    "        augment=True\n",
    "    )\n",
    "\n",
    "    valid_data_retriever = Dataset(\n",
    "        df_valid[\"BraTS21ID\"].values, \n",
    "        df_valid[\"MGMT_value\"].values,\n",
    "        df_valid[\"MRI_Type\"].values\n",
    "    )\n",
    "\n",
    "    train_loader = torch_data.DataLoader(\n",
    "        train_data_retriever,\n",
    "        batch_size=4,\n",
    "        shuffle=True,\n",
    "        num_workers=8,\n",
    "    )\n",
    "\n",
    "    valid_loader = torch_data.DataLoader(\n",
    "        valid_data_retriever, \n",
    "        batch_size=4,\n",
    "        shuffle=False,\n",
    "        num_workers=8,\n",
    "    )\n",
    "\n",
    "    model = Model()\n",
    "    model.to(device)\n",
    "\n",
    "    #checkpoint = torch.load(\"best-model-all-auc0.555.pth\")\n",
    "    #model.load_state_dict(checkpoint[\"model_state_dict\"])\n",
    "\n",
    "    #print(model)\n",
    "\n",
    "    optimizer = torch.optim.Adam(model.parameters(), lr=0.001)\n",
    "\n",
    "    criterion = torch_functional.binary_cross_entropy_with_logits\n",
    "\n",
    "    trainer = Trainer(\n",
    "        model, \n",
    "        device, \n",
    "        optimizer, \n",
    "        criterion\n",
    "    )\n",
    "\n",
    "    history = trainer.fit(\n",
    "        10, \n",
    "        train_loader, \n",
    "        valid_loader, \n",
    "        f\"{mri_type}\", \n",
    "        10,\n",
    "    )\n",
    "    \n",
    "    return trainer.lastmodel\n",
    "\n",
    "\n",
    "\n",
    "if not modelfiles:\n",
    "    modelfiles = [train_mri_type(df_train, df_valid, m) for m in mri_types]\n",
    "    print(modelfiles)"
   ]
  },
  {
   "cell_type": "markdown",
   "id": "1f39edbc",
   "metadata": {
    "papermill": {
     "duration": 0.021921,
     "end_time": "2021-10-14T20:15:08.944891",
     "exception": false,
     "start_time": "2021-10-14T20:15:08.922970",
     "status": "completed"
    },
    "tags": [],
    "pycharm": {
     "name": "#%% md\n"
    }
   },
   "source": [
    "## Predict function"
   ]
  },
  {
   "cell_type": "code",
   "execution_count": 11,
   "id": "99e86519",
   "metadata": {
    "execution": {
     "iopub.execute_input": "2021-10-14T20:15:08.999801Z",
     "iopub.status.busy": "2021-10-14T20:15:08.998902Z",
     "iopub.status.idle": "2021-10-14T20:15:09.002852Z",
     "shell.execute_reply": "2021-10-14T20:15:09.002232Z",
     "shell.execute_reply.started": "2021-10-14T20:03:26.010689Z"
    },
    "papermill": {
     "duration": 0.035952,
     "end_time": "2021-10-14T20:15:09.002977",
     "exception": false,
     "start_time": "2021-10-14T20:15:08.967025",
     "status": "completed"
    },
    "tags": [],
    "pycharm": {
     "name": "#%%\n"
    }
   },
   "outputs": [],
   "source": [
    "def predict(modelfile, df, mri_type, split):\n",
    "    print(\"Predict:\", modelfile, mri_type, df.shape)\n",
    "    df.loc[:,\"MRI_Type\"] = mri_type\n",
    "    data_retriever = Dataset(\n",
    "        df.index.values, \n",
    "        mri_type=df[\"MRI_Type\"].values,\n",
    "        split=split\n",
    "    )\n",
    "\n",
    "    data_loader = torch_data.DataLoader(\n",
    "        data_retriever,\n",
    "        batch_size=4,\n",
    "        shuffle=False,\n",
    "        num_workers=8,\n",
    "    )\n",
    "   \n",
    "    model = Model()\n",
    "    model.to(device)\n",
    "    \n",
    "    checkpoint = torch.load(modelfile)\n",
    "    model.load_state_dict(checkpoint[\"model_state_dict\"])\n",
    "    model.eval()\n",
    "    \n",
    "    y_pred = []\n",
    "    ids = []\n",
    "\n",
    "    for e, batch in enumerate(data_loader,1):\n",
    "        print(f\"{e}/{len(data_loader)}\", end=\"\\r\")\n",
    "        with torch.no_grad():\n",
    "            tmp_pred = torch.sigmoid(model(batch[\"X\"].to(device))).cpu().numpy().squeeze()\n",
    "            if tmp_pred.size == 1:\n",
    "                y_pred.append(tmp_pred)\n",
    "            else:\n",
    "                y_pred.extend(tmp_pred.tolist())\n",
    "            ids.extend(batch[\"id\"].numpy().tolist())\n",
    "            \n",
    "    preddf = pd.DataFrame({\"BraTS21ID\": ids, \"MGMT_value\": y_pred}) \n",
    "    preddf = preddf.set_index(\"BraTS21ID\")\n",
    "    return preddf"
   ]
  },
  {
   "cell_type": "code",
   "execution_count": 12,
   "id": "74b88737",
   "metadata": {
    "execution": {
     "iopub.execute_input": "2021-10-14T20:15:09.057788Z",
     "iopub.status.busy": "2021-10-14T20:15:09.056951Z",
     "iopub.status.idle": "2021-10-14T20:15:09.063438Z",
     "shell.execute_reply": "2021-10-14T20:15:09.062893Z",
     "shell.execute_reply.started": "2021-10-14T20:03:26.025872Z"
    },
    "papermill": {
     "duration": 0.038517,
     "end_time": "2021-10-14T20:15:09.063591",
     "exception": false,
     "start_time": "2021-10-14T20:15:09.025074",
     "status": "completed"
    },
    "tags": [],
    "pycharm": {
     "name": "#%%\n"
    }
   },
   "outputs": [
    {
     "data": {
      "text/html": [
       "<div>\n",
       "<style scoped>\n",
       "    .dataframe tbody tr th:only-of-type {\n",
       "        vertical-align: middle;\n",
       "    }\n",
       "\n",
       "    .dataframe tbody tr th {\n",
       "        vertical-align: top;\n",
       "    }\n",
       "\n",
       "    .dataframe thead th {\n",
       "        text-align: right;\n",
       "    }\n",
       "</style>\n",
       "<table border=\"1\" class=\"dataframe\">\n",
       "  <thead>\n",
       "    <tr style=\"text-align: right;\">\n",
       "      <th></th>\n",
       "      <th>BraTS21ID</th>\n",
       "      <th>MGMT_value</th>\n",
       "    </tr>\n",
       "  </thead>\n",
       "  <tbody>\n",
       "    <tr>\n",
       "      <th>481</th>\n",
       "      <td>698</td>\n",
       "      <td>1</td>\n",
       "    </tr>\n",
       "    <tr>\n",
       "      <th>43</th>\n",
       "      <td>66</td>\n",
       "      <td>1</td>\n",
       "    </tr>\n",
       "    <tr>\n",
       "      <th>437</th>\n",
       "      <td>628</td>\n",
       "      <td>1</td>\n",
       "    </tr>\n",
       "    <tr>\n",
       "      <th>469</th>\n",
       "      <td>683</td>\n",
       "      <td>0</td>\n",
       "    </tr>\n",
       "    <tr>\n",
       "      <th>325</th>\n",
       "      <td>480</td>\n",
       "      <td>1</td>\n",
       "    </tr>\n",
       "    <tr>\n",
       "      <th>...</th>\n",
       "      <td>...</td>\n",
       "      <td>...</td>\n",
       "    </tr>\n",
       "    <tr>\n",
       "      <th>236</th>\n",
       "      <td>343</td>\n",
       "      <td>0</td>\n",
       "    </tr>\n",
       "    <tr>\n",
       "      <th>316</th>\n",
       "      <td>464</td>\n",
       "      <td>0</td>\n",
       "    </tr>\n",
       "    <tr>\n",
       "      <th>342</th>\n",
       "      <td>506</td>\n",
       "      <td>1</td>\n",
       "    </tr>\n",
       "    <tr>\n",
       "      <th>471</th>\n",
       "      <td>685</td>\n",
       "      <td>0</td>\n",
       "    </tr>\n",
       "    <tr>\n",
       "      <th>133</th>\n",
       "      <td>199</td>\n",
       "      <td>1</td>\n",
       "    </tr>\n",
       "  </tbody>\n",
       "</table>\n",
       "<p>117 rows × 2 columns</p>\n",
       "</div>"
      ],
      "text/plain": [
       "     BraTS21ID  MGMT_value\n",
       "481        698           1\n",
       "43          66           1\n",
       "437        628           1\n",
       "469        683           0\n",
       "325        480           1\n",
       "..         ...         ...\n",
       "236        343           0\n",
       "316        464           0\n",
       "342        506           1\n",
       "471        685           0\n",
       "133        199           1\n",
       "\n",
       "[117 rows x 2 columns]"
      ]
     },
     "execution_count": 12,
     "metadata": {},
     "output_type": "execute_result"
    }
   ],
   "source": [
    "df_valid"
   ]
  },
  {
   "cell_type": "markdown",
   "id": "454bfd0e",
   "metadata": {
    "papermill": {
     "duration": 0.023386,
     "end_time": "2021-10-14T20:15:09.109914",
     "exception": false,
     "start_time": "2021-10-14T20:15:09.086528",
     "status": "completed"
    },
    "tags": [],
    "pycharm": {
     "name": "#%% md\n"
    }
   },
   "source": [
    "## Ensemble for validation"
   ]
  },
  {
   "cell_type": "code",
   "execution_count": 13,
   "id": "611d42b9",
   "metadata": {
    "execution": {
     "iopub.execute_input": "2021-10-14T20:15:09.165867Z",
     "iopub.status.busy": "2021-10-14T20:15:09.165102Z",
     "iopub.status.idle": "2021-10-14T20:17:41.719996Z",
     "shell.execute_reply": "2021-10-14T20:17:41.720581Z",
     "shell.execute_reply.started": "2021-10-14T20:03:26.044509Z"
    },
    "papermill": {
     "duration": 152.588053,
     "end_time": "2021-10-14T20:17:41.720805",
     "exception": false,
     "start_time": "2021-10-14T20:15:09.132752",
     "status": "completed"
    },
    "tags": [],
    "pycharm": {
     "name": "#%%\n"
    }
   },
   "outputs": [
    {
     "name": "stdout",
     "output_type": "stream",
     "text": [
      "Predict: ../input/final-models/FLAIR-e2-loss0.691-auc0.583.pth FLAIR (117, 2)\n",
      "Predict: ../input/final-models/T1w-e3-loss0.691-auc0.451.pth T1w (117, 3)\n",
      "Predict: ../input/final-models/T1wCE-e6-loss0.690-auc0.576.pth T1wCE (117, 3)\n",
      "Predict: ../input/final-models/T2w-e6-loss0.690-auc0.522.pth T2w (117, 3)\n",
      "Validation ensemble AUC: 0.5445\n"
     ]
    },
    {
     "data": {
      "text/plain": [
       "<seaborn.axisgrid.FacetGrid at 0x7f7e4be0d5d0>"
      ]
     },
     "execution_count": 13,
     "metadata": {},
     "output_type": "execute_result"
    },
    {
     "data": {
      "image/png": "[encoded data removed]",
      "text/plain": [
       "<Figure size 360x360 with 1 Axes>"
      ]
     },
     "metadata": {
      "needs_background": "light"
     },
     "output_type": "display_data"
    }
   ],
   "source": [
    "df_valid = df_valid.set_index(\"BraTS21ID\")\n",
    "df_valid[\"MGMT_pred\"] = 0\n",
    "for m, mtype in zip(modelfiles,  mri_types):\n",
    "    pred = predict(m, df_valid, mtype, \"train\")\n",
    "    df_valid[\"MGMT_pred\"] += pred[\"MGMT_value\"]\n",
    "df_valid[\"MGMT_pred\"] /= len(modelfiles)\n",
    "auc = roc_auc_score(df_valid[\"MGMT_value\"], df_valid[\"MGMT_pred\"])\n",
    "print(f\"Validation ensemble AUC: {auc:.4f}\")\n",
    "sns.displot(df_valid[\"MGMT_pred\"])"
   ]
  },
  {
   "cell_type": "markdown",
   "id": "b41368c6",
   "metadata": {
    "papermill": {
     "duration": 0.064668,
     "end_time": "2021-10-14T20:17:41.852507",
     "exception": false,
     "start_time": "2021-10-14T20:17:41.787839",
     "status": "completed"
    },
    "tags": [],
    "pycharm": {
     "name": "#%% md\n"
    }
   },
   "source": [
    "## Ensemble for submission"
   ]
  },
  {
   "cell_type": "code",
   "execution_count": 14,
   "id": "f54327a7",
   "metadata": {
    "execution": {
     "iopub.execute_input": "2021-10-14T20:17:41.993177Z",
     "iopub.status.busy": "2021-10-14T20:17:41.992055Z",
     "iopub.status.idle": "2021-10-14T20:19:32.461759Z",
     "shell.execute_reply": "2021-10-14T20:19:32.461145Z",
     "shell.execute_reply.started": "2021-10-14T20:05:22.998954Z"
    },
    "papermill": {
     "duration": 110.543271,
     "end_time": "2021-10-14T20:19:32.461926",
     "exception": false,
     "start_time": "2021-10-14T20:17:41.918655",
     "status": "completed"
    },
    "tags": [],
    "pycharm": {
     "name": "#%%\n"
    }
   },
   "outputs": [
    {
     "name": "stdout",
     "output_type": "stream",
     "text": [
      "Predict: ../input/final-models/FLAIR-e2-loss0.691-auc0.583.pth FLAIR (87, 1)\n",
      "Predict: ../input/final-models/T1w-e3-loss0.691-auc0.451.pth T1w (87, 2)\n",
      "Predict: ../input/final-models/T1wCE-e6-loss0.690-auc0.576.pth T1wCE (87, 2)\n",
      "Predict: ../input/final-models/T2w-e6-loss0.690-auc0.522.pth T2w (87, 2)\n",
      "22/22\r"
     ]
    }
   ],
   "source": [
    "\n",
    "submission = pd.read_csv(\"../input/rsna-miccai-brain-tumor-radiogenomic-classification/sample_submission.csv\", index_col=\"BraTS21ID\")\n",
    "\n",
    "submission[\"MGMT_value\"] = 0\n",
    "for m, mtype in zip(modelfiles, mri_types):\n",
    "    pred = predict(m, submission, mtype, split=\"test\")\n",
    "    submission[\"MGMT_value\"] += pred[\"MGMT_value\"]\n",
    "\n",
    "submission[\"MGMT_value\"] /= len(modelfiles)\n",
    "#submission[\"MGMT_value\"].to_csv(\"predict.csv\")"
   ]
  },
  {
   "cell_type": "code",
   "execution_count": 15,
   "id": "7b129615",
   "metadata": {
    "execution": {
     "iopub.execute_input": "2021-10-14T20:19:32.674777Z",
     "iopub.status.busy": "2021-10-14T20:19:32.673588Z",
     "iopub.status.idle": "2021-10-14T20:19:32.679800Z",
     "shell.execute_reply": "2021-10-14T20:19:32.679211Z",
     "shell.execute_reply.started": "2021-10-14T20:06:56.681277Z"
    },
    "papermill": {
     "duration": 0.11938,
     "end_time": "2021-10-14T20:19:32.679954",
     "exception": false,
     "start_time": "2021-10-14T20:19:32.560574",
     "status": "completed"
    },
    "tags": [],
    "pycharm": {
     "name": "#%%\n"
    }
   },
   "outputs": [
    {
     "data": {
      "text/plain": [
       "{'00001': 0.5190382599830627,\n",
       " '00013': 0.5202355086803436,\n",
       " '00015': 0.5247491747140884,\n",
       " '00027': 0.5217148885130882,\n",
       " '00037': 0.5420118272304535,\n",
       " '00047': 0.5225080698728561,\n",
       " '00079': 0.5221379101276398,\n",
       " '00080': 0.5235393792390823,\n",
       " '00082': 0.5252706855535507,\n",
       " '00091': 0.5223283618688583,\n",
       " '00114': 0.5192570686340332,\n",
       " '00119': 0.5191342309117317,\n",
       " '00125': 0.5226651132106781,\n",
       " '00129': 0.5227869004011154,\n",
       " '00135': 0.5228004455566406,\n",
       " '00145': 0.5231781303882599,\n",
       " '00153': 0.5195670798420906,\n",
       " '00161': 0.5227221697568893,\n",
       " '00163': 0.5203731209039688,\n",
       " '00174': 0.523516446352005,\n",
       " '00181': 0.521406427025795,\n",
       " '00182': 0.5192729979753494,\n",
       " '00190': 0.5198193341493607,\n",
       " '00200': 0.5203750133514404,\n",
       " '00208': 0.5243108868598938,\n",
       " '00213': 0.5522996485233307,\n",
       " '00229': 0.5196722149848938,\n",
       " '00252': 0.5255888849496841,\n",
       " '00256': 0.5261367708444595,\n",
       " '00264': 0.5187167003750801,\n",
       " '00287': 0.5223642140626907,\n",
       " '00307': 0.5190987288951874,\n",
       " '00323': 0.5202489644289017,\n",
       " '00333': 0.5200267136096954,\n",
       " '00335': 0.5223814249038696,\n",
       " '00337': 0.5186893939971924,\n",
       " '00355': 0.519702710211277,\n",
       " '00372': 0.521210327744484,\n",
       " '00381': 0.5186141133308411,\n",
       " '00384': 0.5222482234239578,\n",
       " '00393': 0.5247969329357147,\n",
       " '00422': 0.5184558555483818,\n",
       " '00428': 0.5193590372800827,\n",
       " '00434': 0.5217738598585129,\n",
       " '00438': 0.5266981720924377,\n",
       " '00447': 0.5264318287372589,\n",
       " '00450': 0.520743265748024,\n",
       " '00458': 0.519771620631218,\n",
       " '00460': 0.522693544626236,\n",
       " '00462': 0.5209466814994812,\n",
       " '00463': 0.5202471688389778,\n",
       " '00467': 0.5239666551351547,\n",
       " '00474': 0.5289734601974487,\n",
       " '00489': 0.5231883972883224,\n",
       " '00492': 0.5247034579515457,\n",
       " '00503': 0.5236598253250122,\n",
       " '00521': 0.5237899124622345,\n",
       " '00535': 0.5194350481033325,\n",
       " '00553': 0.5190658569335938,\n",
       " '00560': 0.551453247666359,\n",
       " '00573': 0.5183287858963013,\n",
       " '00585': 0.5278909802436829,\n",
       " '00592': 0.5199837535619736,\n",
       " '00595': 0.5210725516080856,\n",
       " '00603': 0.524941086769104,\n",
       " '00644': 0.5383071899414062,\n",
       " '00647': 0.5250099152326584,\n",
       " '00662': 0.5343636870384216,\n",
       " '00671': 0.5275756865739822,\n",
       " '00681': 0.5225334316492081,\n",
       " '00699': 0.5270485877990723,\n",
       " '00702': 0.5529020726680756,\n",
       " '00712': 0.5250767320394516,\n",
       " '00719': 0.5230018198490143,\n",
       " '00721': 0.5272415727376938,\n",
       " '00749': 0.5248060077428818,\n",
       " '00762': 0.5512252151966095,\n",
       " '00769': 0.5278051793575287,\n",
       " '00779': 0.5501409322023392,\n",
       " '00821': 0.5188930556178093,\n",
       " '00822': 0.5184362083673477,\n",
       " '00825': 0.5187672302126884,\n",
       " '00826': 0.5187148079276085,\n",
       " '00829': 0.518765278160572,\n",
       " '00833': 0.518472209572792,\n",
       " '00997': 0.5202564001083374,\n",
       " '01006': 0.5228891372680664}"
      ]
     },
     "execution_count": 15,
     "metadata": {},
     "output_type": "execute_result"
    }
   ],
   "source": [
    "\n",
    "predict=submission['MGMT_value']\n",
    "predict=pd.DataFrame(predict).reset_index(drop=False)\n",
    "\n",
    "predict['BraTS21ID']=predict['BraTS21ID'].apply(lambda x: str(x).zfill(5))\n",
    "predict=predict.set_index('BraTS21ID')\n",
    "submissionDict=predict['MGMT_value'].to_dict()\n",
    "submissionDict\n"
   ]
  },
  {
   "cell_type": "code",
   "execution_count": 16,
   "id": "9f8473fa",
   "metadata": {
    "execution": {
     "iopub.execute_input": "2021-10-14T20:19:32.888505Z",
     "iopub.status.busy": "2021-10-14T20:19:32.887698Z",
     "iopub.status.idle": "2021-10-14T20:19:32.934320Z",
     "shell.execute_reply": "2021-10-14T20:19:32.933746Z",
     "shell.execute_reply.started": "2021-10-14T20:06:56.697707Z"
    },
    "papermill": {
     "duration": 0.156015,
     "end_time": "2021-10-14T20:19:32.934524",
     "exception": false,
     "start_time": "2021-10-14T20:19:32.778509",
     "status": "completed"
    },
    "tags": [],
    "pycharm": {
     "name": "#%%\n"
    }
   },
   "outputs": [],
   "source": [
    "\n",
    "sub_732= pd.read_csv(\"../input/called0732/submission.csv\")\n",
    "sub_732=sub_732.sort_values(by=['BraTS21ID'], ascending=True)\n",
    "sub_732=sub_732.reset_index(drop=True)\n",
    "sub_732.head(3) \n",
    "sub_734= pd.read_csv(\"../input/sub0734/submission.csv\")\n",
    "sub_734=sub_734.sort_values(by=['BraTS21ID'], ascending=True)\n",
    "sub_734=sub_734.reset_index(drop=True)\n",
    "sub_734.head(3)  \n",
    "sub_761=pd.read_csv(\"../input/final-miccai/submission.csv\")\n",
    "sub_761=sub_761.sort_values(by=['BraTS21ID'], ascending=True)\n",
    "sub_761=sub_761.reset_index(drop=True)\n",
    "sub_761.head(3)\n",
    "Finalsubmission=sub_761.copy()\n",
    "Finalsubmission['MGMT_value'] =sub_761['MGMT_value'].values*0.95+sub_734['MGMT_value'].values*0.05\n",
    "Finalsubmission['BraTS21ID'] = Finalsubmission['BraTS21ID'].apply(lambda x: str(x).zfill(5))\n",
    "Finalsubmission\n",
    "Fsubmission = Finalsubmission.set_index('BraTS21ID')\n",
    "FsubmissionDict = Fsubmission['MGMT_value'].to_dict()\n",
    "FsubmissionDict\n",
    "\n",
    "\n",
    "\n",
    "\n",
    "\n",
    "listOfStudyPaths = glob.glob('../input/rsna-miccai-brain-tumor-radiogenomic-classification/test/*')\n",
    "listOfStudies = [eachPath.split('/')[-1] for eachPath in listOfStudyPaths]\n",
    "\n"
   ]
  },
  {
   "cell_type": "code",
   "execution_count": 17,
   "id": "f38a58e4",
   "metadata": {
    "execution": {
     "iopub.execute_input": "2021-10-14T20:19:33.143625Z",
     "iopub.status.busy": "2021-10-14T20:19:33.142848Z",
     "iopub.status.idle": "2021-10-14T20:19:33.153548Z",
     "shell.execute_reply": "2021-10-14T20:19:33.152969Z",
     "shell.execute_reply.started": "2021-10-14T20:06:56.745671Z"
    },
    "papermill": {
     "duration": 0.119091,
     "end_time": "2021-10-14T20:19:33.153706",
     "exception": false,
     "start_time": "2021-10-14T20:19:33.034615",
     "status": "completed"
    },
    "tags": [],
    "pycharm": {
     "name": "#%%\n"
    }
   },
   "outputs": [],
   "source": [
    "predList = []\n",
    "for eachStudy in listOfStudies:\n",
    "    if eachStudy in FsubmissionDict:\n",
    "        score = float(FsubmissionDict[eachStudy])\n",
    "        predList.append(score)\n",
    "    elif eachStudy in submissionDict:\n",
    "        score = float(submissionDict[eachStudy])\n",
    "        predList.append(score)\n",
    "    else:\n",
    "        predList.append(0.500)\n",
    "        \n",
    "submission = pd.DataFrame({'BraTS21ID':listOfStudies,'MGMT_value':predList})\n",
    "submission=submission.sort_values(by=['BraTS21ID'], ascending=True)\n",
    "submission=submission.reset_index(drop=True)\n",
    "submission.head(5)\n",
    "submission.to_csv('submission.csv', index=False)"
   ]
  },
  {
   "cell_type": "code",
   "execution_count": 18,
   "id": "cedde51a",
   "metadata": {
    "execution": {
     "iopub.execute_input": "2021-10-14T20:19:33.387986Z",
     "iopub.status.busy": "2021-10-14T20:19:33.378853Z",
     "iopub.status.idle": "2021-10-14T20:19:33.926541Z",
     "shell.execute_reply": "2021-10-14T20:19:33.925948Z",
     "shell.execute_reply.started": "2021-10-14T20:06:56.758559Z"
    },
    "papermill": {
     "duration": 0.674642,
     "end_time": "2021-10-14T20:19:33.926701",
     "exception": false,
     "start_time": "2021-10-14T20:19:33.252059",
     "status": "completed"
    },
    "tags": [],
    "pycharm": {
     "name": "#%%\n"
    }
   },
   "outputs": [
    {
     "data": {
      "image/png": "[encoded data removed]",
      "text/plain": [
       "<Figure size 360x360 with 1 Axes>"
      ]
     },
     "metadata": {
      "needs_background": "light"
     },
     "output_type": "display_data"
    },
    {
     "data": {
      "image/png": "[encoded data removed]",
      "text/plain": [
       "<Figure size 360x360 with 1 Axes>"
      ]
     },
     "metadata": {
      "needs_background": "light"
     },
     "output_type": "display_data"
    }
   ],
   "source": [
    "sns.displot(submission[\"MGMT_value\"])\n",
    "plt.figure(figsize=(5, 5))\n",
    "plt.hist(submission[\"MGMT_value\"]);"
   ]
  }
 ],
 "metadata": {
  "kernelspec": {
   "display_name": "Python 3",
   "language": "python",
   "name": "python3"
  },
  "language_info": {
   "codemirror_mode": {
    "name": "ipython",
    "version": 3
   },
   "file_extension": ".py",
   "mimetype": "text/x-python",
   "name": "python",
   "nbconvert_exporter": "python",
   "pygments_lexer": "ipython3",
   "version": "3.7.10"
  },
  "papermill": {
   "default_parameters": {},
   "duration": 279.891107,
   "end_time": "2021-10-14T20:19:36.030806",
   "environment_variables": {},
   "exception": null,
   "input_path": "__notebook__.ipynb",
   "output_path": "__notebook__.ipynb",
   "parameters": {},
   "start_time": "2021-10-14T20:14:56.139699",
   "version": "2.3.3"
  }
 },
 "nbformat": 4,
 "nbformat_minor": 5
}