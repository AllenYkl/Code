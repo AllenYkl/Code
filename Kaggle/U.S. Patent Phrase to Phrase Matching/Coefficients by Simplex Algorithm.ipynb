{
 "cells": [
  {
   "cell_type": "code",
   "execution_count": 1,
   "id": "44e7bcb7",
   "metadata": {
    "_cell_guid": "b1076dfc-b9ad-4769-8c92-a6c4dae69d19",
    "_uuid": "8f2839f25d086af736a60e9eeb907d3b93b6e0e5",
    "execution": {
     "iopub.execute_input": "2022-06-13T14:03:05.019431Z",
     "iopub.status.busy": "2022-06-13T14:03:05.018544Z",
     "iopub.status.idle": "2022-06-13T14:03:05.882145Z",
     "shell.execute_reply": "2022-06-13T14:03:05.880933Z"
    },
    "papermill": {
     "duration": 0.880638,
     "end_time": "2022-06-13T14:03:05.884957",
     "exception": false,
     "start_time": "2022-06-13T14:03:05.004319",
     "status": "completed"
    },
    "tags": [],
    "pycharm": {
     "name": "#%%\n"
    }
   },
   "outputs": [],
   "source": [
    "import pandas as pd\n",
    "import scipy.stats as sp\n",
    "import numpy as np"
   ]
  },
  {
   "cell_type": "code",
   "execution_count": 2,
   "id": "92019cdc",
   "metadata": {
    "execution": {
     "iopub.execute_input": "2022-06-13T14:03:05.909735Z",
     "iopub.status.busy": "2022-06-13T14:03:05.909313Z",
     "iopub.status.idle": "2022-06-13T14:03:05.913901Z",
     "shell.execute_reply": "2022-06-13T14:03:05.912947Z"
    },
    "papermill": {
     "duration": 0.018932,
     "end_time": "2022-06-13T14:03:05.915810",
     "exception": false,
     "start_time": "2022-06-13T14:03:05.896878",
     "status": "completed"
    },
    "tags": [],
    "pycharm": {
     "name": "#%%\n"
    }
   },
   "outputs": [],
   "source": [
    "def get_score(y_true, y_pred):\n",
    "    score = sp.pearsonr(y_true, y_pred)[0]\n",
    "    return score"
   ]
  },
  {
   "cell_type": "code",
   "execution_count": 3,
   "id": "94b157c5",
   "metadata": {
    "execution": {
     "iopub.execute_input": "2022-06-13T14:03:05.939696Z",
     "iopub.status.busy": "2022-06-13T14:03:05.939277Z",
     "iopub.status.idle": "2022-06-13T14:03:06.271806Z",
     "shell.execute_reply": "2022-06-13T14:03:06.270773Z"
    },
    "papermill": {
     "duration": 0.348383,
     "end_time": "2022-06-13T14:03:06.275203",
     "exception": false,
     "start_time": "2022-06-13T14:03:05.926820",
     "status": "completed"
    },
    "tags": [],
    "pycharm": {
     "name": "#%%\n"
    }
   },
   "outputs": [
    {
     "name": "stdout",
     "output_type": "stream",
     "text": [
      "Local CV: 0.8439502811975732 -deberta-small-transformer_head\n"
     ]
    }
   ],
   "source": [
    "oof_1 = pd.read_csv(\"../input/uspppmoofcv/USPPPM-oof/small-th.csv\")\n",
    "target = oof_1['score'].values\n",
    "pred = oof_1['pred'].values\n",
    "oof_score = get_score(target, pred)\n",
    "print(f\"Local CV: {oof_score} -deberta-small-transformer_head\")"
   ]
  },
  {
   "cell_type": "code",
   "execution_count": 4,
   "id": "c899e68b",
   "metadata": {
    "execution": {
     "iopub.execute_input": "2022-06-13T14:03:06.319499Z",
     "iopub.status.busy": "2022-06-13T14:03:06.318808Z",
     "iopub.status.idle": "2022-06-13T14:03:06.630749Z",
     "shell.execute_reply": "2022-06-13T14:03:06.628029Z"
    },
    "papermill": {
     "duration": 0.337532,
     "end_time": "2022-06-13T14:03:06.633921",
     "exception": false,
     "start_time": "2022-06-13T14:03:06.296389",
     "status": "completed"
    },
    "tags": [],
    "pycharm": {
     "name": "#%%\n"
    }
   },
   "outputs": [
    {
     "name": "stdout",
     "output_type": "stream",
     "text": [
      "Local CV: 0.8496231020754981 -deberta-base\n"
     ]
    }
   ],
   "source": [
    "oof_2 = pd.read_csv(\"../input/uspppmoofcv/USPPPM-oof/base.csv\")\n",
    "target = oof_2['score'].values\n",
    "pred = oof_2['pred'].values\n",
    "oof_score = get_score(target, pred)\n",
    "print(f\"Local CV: {oof_score} -deberta-base\")"
   ]
  },
  {
   "cell_type": "code",
   "execution_count": 5,
   "id": "d60fe8e9",
   "metadata": {
    "execution": {
     "iopub.execute_input": "2022-06-13T14:03:06.678280Z",
     "iopub.status.busy": "2022-06-13T14:03:06.677560Z",
     "iopub.status.idle": "2022-06-13T14:03:07.089559Z",
     "shell.execute_reply": "2022-06-13T14:03:07.086066Z"
    },
    "papermill": {
     "duration": 0.44001,
     "end_time": "2022-06-13T14:03:07.095084",
     "exception": false,
     "start_time": "2022-06-13T14:03:06.655074",
     "status": "completed"
    },
    "tags": [],
    "pycharm": {
     "name": "#%%\n"
    }
   },
   "outputs": [
    {
     "name": "stdout",
     "output_type": "stream",
     "text": [
      "Local CV: 0.8549804199766223 -bert\n"
     ]
    }
   ],
   "source": [
    "oof_3 = pd.read_csv(\"../input/uspppmoofcv/USPPPM-oof/bert.csv\")\n",
    "target = oof_3['score'].values\n",
    "pred = oof_3['pred'].values\n",
    "oof_score = get_score(target, pred)\n",
    "print(f\"Local CV: {oof_score} -bert\")"
   ]
  },
  {
   "cell_type": "code",
   "execution_count": 6,
   "id": "c654ef7a",
   "metadata": {
    "execution": {
     "iopub.execute_input": "2022-06-13T14:03:07.139905Z",
     "iopub.status.busy": "2022-06-13T14:03:07.139216Z",
     "iopub.status.idle": "2022-06-13T14:03:07.427741Z",
     "shell.execute_reply": "2022-06-13T14:03:07.426631Z"
    },
    "papermill": {
     "duration": 0.314551,
     "end_time": "2022-06-13T14:03:07.431376",
     "exception": false,
     "start_time": "2022-06-13T14:03:07.116825",
     "status": "completed"
    },
    "tags": [],
    "pycharm": {
     "name": "#%%\n"
    }
   },
   "outputs": [
    {
     "name": "stdout",
     "output_type": "stream",
     "text": [
      "Local CV: 0.8612359148055451 -deberta-large\n"
     ]
    }
   ],
   "source": [
    "oof_4 = pd.read_csv(\"../input/uspppmoofcv/USPPPM-oof/large.csv\")\n",
    "target = oof_4['score'].values\n",
    "pred = oof_4['pred'].values\n",
    "oof_score = get_score(target, pred)\n",
    "print(f\"Local CV: {oof_score} -deberta-large\")"
   ]
  },
  {
   "cell_type": "code",
   "execution_count": 7,
   "id": "4f12327e",
   "metadata": {
    "execution": {
     "iopub.execute_input": "2022-06-13T14:03:07.476197Z",
     "iopub.status.busy": "2022-06-13T14:03:07.475615Z",
     "iopub.status.idle": "2022-06-13T14:03:07.770369Z",
     "shell.execute_reply": "2022-06-13T14:03:07.769147Z"
    },
    "papermill": {
     "duration": 0.320663,
     "end_time": "2022-06-13T14:03:07.773731",
     "exception": false,
     "start_time": "2022-06-13T14:03:07.453068",
     "status": "completed"
    },
    "tags": [],
    "pycharm": {
     "name": "#%%\n"
    }
   },
   "outputs": [
    {
     "name": "stdout",
     "output_type": "stream",
     "text": [
      "Local CV: 0.8288254229400134 -deberta-xsmall-transformer_head\n"
     ]
    }
   ],
   "source": [
    "oof_5 = pd.read_csv(\"../input/uspppmoofcv/USPPPM-oof/xsmall-th.csv\")\n",
    "target = oof_5['score'].values\n",
    "pred = oof_5['pred'].values\n",
    "oof_score = get_score(target, pred)\n",
    "print(f\"Local CV: {oof_score} -deberta-xsmall-transformer_head\")"
   ]
  },
  {
   "cell_type": "code",
   "execution_count": 8,
   "id": "a6cc6d79",
   "metadata": {
    "execution": {
     "iopub.execute_input": "2022-06-13T14:03:07.818547Z",
     "iopub.status.busy": "2022-06-13T14:03:07.817875Z",
     "iopub.status.idle": "2022-06-13T14:03:08.113525Z",
     "shell.execute_reply": "2022-06-13T14:03:08.112421Z"
    },
    "papermill": {
     "duration": 0.322025,
     "end_time": "2022-06-13T14:03:08.117081",
     "exception": false,
     "start_time": "2022-06-13T14:03:07.795056",
     "status": "completed"
    },
    "tags": [],
    "pycharm": {
     "name": "#%%\n"
    }
   },
   "outputs": [
    {
     "name": "stdout",
     "output_type": "stream",
     "text": [
      "Local CV: 0.8623804040789576 -deberta-large-transformer_head\n"
     ]
    }
   ],
   "source": [
    "oof_6 = pd.read_csv(\"../input/uspppmoofcv/USPPPM-oof/large-th.csv\")\n",
    "target = oof_6['score'].values\n",
    "pred = oof_6['pred'].values\n",
    "oof_score = get_score(target, pred)\n",
    "print(f\"Local CV: {oof_score} -deberta-large-transformer_head\")"
   ]
  },
  {
   "cell_type": "code",
   "execution_count": 9,
   "id": "b7a64c79",
   "metadata": {
    "execution": {
     "iopub.execute_input": "2022-06-13T14:03:08.162449Z",
     "iopub.status.busy": "2022-06-13T14:03:08.161861Z",
     "iopub.status.idle": "2022-06-13T14:03:08.468355Z",
     "shell.execute_reply": "2022-06-13T14:03:08.467238Z"
    },
    "papermill": {
     "duration": 0.333005,
     "end_time": "2022-06-13T14:03:08.471951",
     "exception": false,
     "start_time": "2022-06-13T14:03:08.138946",
     "status": "completed"
    },
    "tags": [],
    "pycharm": {
     "name": "#%%\n"
    }
   },
   "outputs": [
    {
     "name": "stdout",
     "output_type": "stream",
     "text": [
      "Local CV: 0.8502798126166572 -deberta-base-transformer_head\n"
     ]
    }
   ],
   "source": [
    "oof_7 = pd.read_csv(\"../input/uspppmoofcv/USPPPM-oof/base-th.csv\")\n",
    "target = oof_7['score'].values\n",
    "pred = oof_7['pred'].values\n",
    "oof_score = get_score(target, pred)\n",
    "print(f\"Local CV: {oof_score} -deberta-base-transformer_head\")"
   ]
  },
  {
   "cell_type": "code",
   "execution_count": 10,
   "id": "4f0969a2",
   "metadata": {
    "execution": {
     "iopub.execute_input": "2022-06-13T14:03:08.517279Z",
     "iopub.status.busy": "2022-06-13T14:03:08.516698Z",
     "iopub.status.idle": "2022-06-13T14:03:08.842361Z",
     "shell.execute_reply": "2022-06-13T14:03:08.840258Z"
    },
    "papermill": {
     "duration": 0.353387,
     "end_time": "2022-06-13T14:03:08.847216",
     "exception": false,
     "start_time": "2022-06-13T14:03:08.493829",
     "status": "completed"
    },
    "tags": [],
    "pycharm": {
     "name": "#%%\n"
    }
   },
   "outputs": [
    {
     "name": "stdout",
     "output_type": "stream",
     "text": [
      "Local CV: 0.8492661393656624 -deberta-bert-for-patents-transformer_head\n"
     ]
    }
   ],
   "source": [
    "oof_8 = pd.read_csv(\"../input/uspppmoofcv/USPPPM-oof/bert-th.csv\")\n",
    "target = oof_8['score'].values\n",
    "pred = oof_8['pred'].values\n",
    "oof_score = get_score(target, pred)\n",
    "print(f\"Local CV: {oof_score} -deberta-bert-for-patents-transformer_head\")"
   ]
  },
  {
   "cell_type": "code",
   "execution_count": 11,
   "id": "90f4c32f",
   "metadata": {
    "execution": {
     "iopub.execute_input": "2022-06-13T14:03:08.893529Z",
     "iopub.status.busy": "2022-06-13T14:03:08.892947Z",
     "iopub.status.idle": "2022-06-13T14:03:09.185737Z",
     "shell.execute_reply": "2022-06-13T14:03:09.184613Z"
    },
    "papermill": {
     "duration": 0.31998,
     "end_time": "2022-06-13T14:03:09.189404",
     "exception": false,
     "start_time": "2022-06-13T14:03:08.869424",
     "status": "completed"
    },
    "tags": [],
    "pycharm": {
     "name": "#%%\n"
    }
   },
   "outputs": [
    {
     "name": "stdout",
     "output_type": "stream",
     "text": [
      "Local CV: 0.8151589579710516 -roberta\n"
     ]
    }
   ],
   "source": [
    "oof_9 = pd.read_csv(\"../input/uspppmoofcv/USPPPM-oof/roberta-th.csv\")\n",
    "target = oof_9['score'].values\n",
    "pred = oof_9['pred'].values\n",
    "oof_score = get_score(target, pred)\n",
    "print(f\"Local CV: {oof_score} -roberta\")"
   ]
  },
  {
   "cell_type": "code",
   "execution_count": 12,
   "id": "eea37562",
   "metadata": {
    "execution": {
     "iopub.execute_input": "2022-06-13T14:03:09.235344Z",
     "iopub.status.busy": "2022-06-13T14:03:09.234768Z",
     "iopub.status.idle": "2022-06-13T14:03:09.533651Z",
     "shell.execute_reply": "2022-06-13T14:03:09.532524Z"
    },
    "papermill": {
     "duration": 0.325773,
     "end_time": "2022-06-13T14:03:09.537369",
     "exception": false,
     "start_time": "2022-06-13T14:03:09.211596",
     "status": "completed"
    },
    "tags": [],
    "pycharm": {
     "name": "#%%\n"
    }
   },
   "outputs": [
    {
     "name": "stdout",
     "output_type": "stream",
     "text": [
      "Local CV: 0.8406496397849834 -roberta\n"
     ]
    }
   ],
   "source": [
    "oof_10 = pd.read_csv(\"../input/uspppmoofcv/USPPPM-oof/roberta.csv\")\n",
    "target = oof_10['score'].values\n",
    "pred = oof_10['pred'].values\n",
    "oof_score = get_score(target, pred)\n",
    "print(f\"Local CV: {oof_score} -roberta\")"
   ]
  },
  {
   "cell_type": "code",
   "execution_count": 13,
   "id": "7f8d26cb",
   "metadata": {
    "execution": {
     "iopub.execute_input": "2022-06-13T14:03:09.583805Z",
     "iopub.status.busy": "2022-06-13T14:03:09.583154Z",
     "iopub.status.idle": "2022-06-13T14:03:09.867967Z",
     "shell.execute_reply": "2022-06-13T14:03:09.866904Z"
    },
    "papermill": {
     "duration": 0.311703,
     "end_time": "2022-06-13T14:03:09.871347",
     "exception": false,
     "start_time": "2022-06-13T14:03:09.559644",
     "status": "completed"
    },
    "tags": [],
    "pycharm": {
     "name": "#%%\n"
    }
   },
   "outputs": [
    {
     "name": "stdout",
     "output_type": "stream",
     "text": [
      "Local CV: 0.8504084218543729 -mnli-deberta-large\n"
     ]
    }
   ],
   "source": [
    "oof_11 = pd.read_csv(\"../input/uspppmoofcv/USPPPM-oof/mnli.csv\")\n",
    "target = oof_11['score'].values\n",
    "pred = oof_11['pred'].values\n",
    "oof_score = get_score(target, pred)\n",
    "print(f\"Local CV: {oof_score} -mnli-deberta-large\")"
   ]
  },
  {
   "cell_type": "code",
   "execution_count": 14,
   "id": "7dcc9e59",
   "metadata": {
    "execution": {
     "iopub.execute_input": "2022-06-13T14:03:09.918909Z",
     "iopub.status.busy": "2022-06-13T14:03:09.918305Z",
     "iopub.status.idle": "2022-06-13T14:03:10.209597Z",
     "shell.execute_reply": "2022-06-13T14:03:10.208340Z"
    },
    "papermill": {
     "duration": 0.319653,
     "end_time": "2022-06-13T14:03:10.213566",
     "exception": false,
     "start_time": "2022-06-13T14:03:09.893913",
     "status": "completed"
    },
    "tags": [],
    "pycharm": {
     "name": "#%%\n"
    }
   },
   "outputs": [
    {
     "name": "stdout",
     "output_type": "stream",
     "text": [
      "Local CV: 0.8062547663458122 -roberta-base\n"
     ]
    }
   ],
   "source": [
    "oof_12 = pd.read_csv(\"../input/uspppmoofcv/USPPPM-oof/roberta-base.csv\")\n",
    "target = oof_12['score'].values\n",
    "pred = oof_12['pred'].values\n",
    "oof_score = get_score(target, pred)\n",
    "print(f\"Local CV: {oof_score} -roberta-base\")"
   ]
  },
  {
   "cell_type": "code",
   "execution_count": 15,
   "id": "f6ce0556",
   "metadata": {
    "execution": {
     "iopub.execute_input": "2022-06-13T14:03:10.261293Z",
     "iopub.status.busy": "2022-06-13T14:03:10.260658Z",
     "iopub.status.idle": "2022-06-13T14:03:10.272617Z",
     "shell.execute_reply": "2022-06-13T14:03:10.271722Z"
    },
    "papermill": {
     "duration": 0.039787,
     "end_time": "2022-06-13T14:03:10.276678",
     "exception": false,
     "start_time": "2022-06-13T14:03:10.236891",
     "status": "completed"
    },
    "tags": [],
    "pycharm": {
     "name": "#%%\n"
    }
   },
   "outputs": [
    {
     "data": {
      "text/plain": [
       "'oof_13 = pd.read_csv(\"../input/uspppmoofcv/USPPPM-oof/roberta-base-th.csv\")\\ntarget = oof_13[\\'score\\'].values\\npred = oof_13[\\'pred\\'].values\\noof_score = get_score(target, pred)\\nprint(f\"Local CV: {oof_score} -roberta-base-th\")'"
      ]
     },
     "execution_count": 15,
     "metadata": {},
     "output_type": "execute_result"
    }
   ],
   "source": [
    "'''oof_13 = pd.read_csv(\"../input/uspppmoofcv/USPPPM-oof/roberta-base-th.csv\")\n",
    "target = oof_13['score'].values\n",
    "pred = oof_13['pred'].values\n",
    "oof_score = get_score(target, pred)\n",
    "print(f\"Local CV: {oof_score} -roberta-base-th\")'''"
   ]
  },
  {
   "cell_type": "code",
   "execution_count": 16,
   "id": "676b1743",
   "metadata": {
    "execution": {
     "iopub.execute_input": "2022-06-13T14:03:10.324120Z",
     "iopub.status.busy": "2022-06-13T14:03:10.323515Z",
     "iopub.status.idle": "2022-06-13T14:03:10.594917Z",
     "shell.execute_reply": "2022-06-13T14:03:10.593658Z"
    },
    "papermill": {
     "duration": 0.298733,
     "end_time": "2022-06-13T14:03:10.598287",
     "exception": false,
     "start_time": "2022-06-13T14:03:10.299554",
     "status": "completed"
    },
    "tags": [],
    "pycharm": {
     "name": "#%%\n"
    }
   },
   "outputs": [
    {
     "name": "stdout",
     "output_type": "stream",
     "text": [
      "Local CV: 0.8477372584760285 -mnli-th\n"
     ]
    }
   ],
   "source": [
    "oof_13 = pd.read_csv(\"../input/uspppmoofcv/USPPPM-oof/mnli-th.csv\")\n",
    "target = oof_13['score'].values\n",
    "pred = oof_13['pred'].values\n",
    "oof_score = get_score(target, pred)\n",
    "print(f\"Local CV: {oof_score} -mnli-th\")"
   ]
  },
  {
   "cell_type": "code",
   "execution_count": 17,
   "id": "693cd919",
   "metadata": {
    "execution": {
     "iopub.execute_input": "2022-06-13T14:03:10.646281Z",
     "iopub.status.busy": "2022-06-13T14:03:10.645684Z",
     "iopub.status.idle": "2022-06-13T14:03:10.932599Z",
     "shell.execute_reply": "2022-06-13T14:03:10.931021Z"
    },
    "papermill": {
     "duration": 0.314986,
     "end_time": "2022-06-13T14:03:10.935814",
     "exception": false,
     "start_time": "2022-06-13T14:03:10.620828",
     "status": "completed"
    },
    "tags": [],
    "pycharm": {
     "name": "#%%\n"
    }
   },
   "outputs": [
    {
     "name": "stdout",
     "output_type": "stream",
     "text": [
      "Local CV: 0.8401171159142342 MSE-deberta-small\n"
     ]
    }
   ],
   "source": [
    "oof_14 = pd.read_csv(\"../input/uspppmoofcv/USPPPM-oof/mse-deberta-small.csv\")\n",
    "target = oof_14['score'].values\n",
    "pred = oof_14['pred'].values\n",
    "oof_score = get_score(target, pred)\n",
    "print(f\"Local CV: {oof_score} MSE-deberta-small\")"
   ]
  },
  {
   "cell_type": "code",
   "execution_count": 18,
   "id": "368823b2",
   "metadata": {
    "execution": {
     "iopub.execute_input": "2022-06-13T14:03:10.981594Z",
     "iopub.status.busy": "2022-06-13T14:03:10.980980Z",
     "iopub.status.idle": "2022-06-13T14:03:11.278555Z",
     "shell.execute_reply": "2022-06-13T14:03:11.277414Z"
    },
    "papermill": {
     "duration": 0.32597,
     "end_time": "2022-06-13T14:03:11.282455",
     "exception": false,
     "start_time": "2022-06-13T14:03:10.956485",
     "status": "completed"
    },
    "tags": [],
    "pycharm": {
     "name": "#%%\n"
    }
   },
   "outputs": [
    {
     "name": "stdout",
     "output_type": "stream",
     "text": [
      "Local CV: 0.844969974079991 MSE-deberta-base\n"
     ]
    }
   ],
   "source": [
    "oof_15 = pd.read_csv(\"../input/uspppmoofcv/USPPPM-oof/mse-deberta-base.csv\")\n",
    "target = oof_15['score'].values\n",
    "pred = oof_15['pred'].values\n",
    "oof_score = get_score(target, pred)\n",
    "print(f\"Local CV: {oof_score} MSE-deberta-base\")"
   ]
  },
  {
   "cell_type": "code",
   "execution_count": 19,
   "id": "430b95c6",
   "metadata": {
    "execution": {
     "iopub.execute_input": "2022-06-13T14:03:11.332013Z",
     "iopub.status.busy": "2022-06-13T14:03:11.331407Z",
     "iopub.status.idle": "2022-06-13T14:03:11.618933Z",
     "shell.execute_reply": "2022-06-13T14:03:11.617835Z"
    },
    "papermill": {
     "duration": 0.316251,
     "end_time": "2022-06-13T14:03:11.622539",
     "exception": false,
     "start_time": "2022-06-13T14:03:11.306288",
     "status": "completed"
    },
    "tags": [],
    "pycharm": {
     "name": "#%%\n"
    }
   },
   "outputs": [
    {
     "name": "stdout",
     "output_type": "stream",
     "text": [
      "Local CV: 0.8456844815012898 MSE-deberta-large\n"
     ]
    }
   ],
   "source": [
    "oof_16 = pd.read_csv(\"../input/uspppmoofcv/USPPPM-oof/mse-deberta-large.csv\")\n",
    "target = oof_16['score'].values\n",
    "pred = oof_16['pred'].values\n",
    "oof_score = get_score(target, pred)\n",
    "print(f\"Local CV: {oof_score} MSE-deberta-large\")"
   ]
  },
  {
   "cell_type": "code",
   "execution_count": 20,
   "id": "22ad213d",
   "metadata": {
    "execution": {
     "iopub.execute_input": "2022-06-13T14:03:11.671818Z",
     "iopub.status.busy": "2022-06-13T14:03:11.671171Z",
     "iopub.status.idle": "2022-06-13T14:03:11.959857Z",
     "shell.execute_reply": "2022-06-13T14:03:11.958500Z"
    },
    "papermill": {
     "duration": 0.316369,
     "end_time": "2022-06-13T14:03:11.963211",
     "exception": false,
     "start_time": "2022-06-13T14:03:11.646842",
     "status": "completed"
    },
    "tags": [],
    "pycharm": {
     "name": "#%%\n"
    }
   },
   "outputs": [
    {
     "name": "stdout",
     "output_type": "stream",
     "text": [
      "Local CV: 0.8459380439302943 MSE-bert-for-patents\n"
     ]
    }
   ],
   "source": [
    "oof_17 = pd.read_csv(\"../input/uspppmoofcv/USPPPM-oof/mse-bert.csv\")\n",
    "target = oof_17['score'].values\n",
    "pred = oof_17['pred'].values\n",
    "oof_score = get_score(target, pred)\n",
    "print(f\"Local CV: {oof_score} MSE-bert-for-patents\")"
   ]
  },
  {
   "cell_type": "code",
   "execution_count": 21,
   "id": "55bff98d",
   "metadata": {
    "execution": {
     "iopub.execute_input": "2022-06-13T14:03:12.011742Z",
     "iopub.status.busy": "2022-06-13T14:03:12.011108Z",
     "iopub.status.idle": "2022-06-13T14:03:12.309729Z",
     "shell.execute_reply": "2022-06-13T14:03:12.307030Z"
    },
    "papermill": {
     "duration": 0.328097,
     "end_time": "2022-06-13T14:03:12.314519",
     "exception": false,
     "start_time": "2022-06-13T14:03:11.986422",
     "status": "completed"
    },
    "tags": [],
    "pycharm": {
     "name": "#%%\n"
    }
   },
   "outputs": [
    {
     "name": "stdout",
     "output_type": "stream",
     "text": [
      "Local CV: 0.8313079090738491 patentsberta\n"
     ]
    }
   ],
   "source": [
    "oof_18 = pd.read_csv(\"../input/uspppmoofcv/USPPPM-oof/patentSBERTa.csv\")\n",
    "target = oof_18['score'].values\n",
    "pred = oof_18['pred'].values\n",
    "oof_score = get_score(target, pred)\n",
    "print(f\"Local CV: {oof_score} patentsberta\")"
   ]
  },
  {
   "cell_type": "code",
   "execution_count": 22,
   "id": "86829a2e",
   "metadata": {
    "execution": {
     "iopub.execute_input": "2022-06-13T14:03:12.363310Z",
     "iopub.status.busy": "2022-06-13T14:03:12.362731Z",
     "iopub.status.idle": "2022-06-13T14:03:12.656277Z",
     "shell.execute_reply": "2022-06-13T14:03:12.654725Z"
    },
    "papermill": {
     "duration": 0.321854,
     "end_time": "2022-06-13T14:03:12.659974",
     "exception": false,
     "start_time": "2022-06-13T14:03:12.338120",
     "status": "completed"
    },
    "tags": [],
    "pycharm": {
     "name": "#%%\n"
    }
   },
   "outputs": [
    {
     "name": "stdout",
     "output_type": "stream",
     "text": [
      "Local CV: 0.8452298512982858 ELECTRA\n"
     ]
    }
   ],
   "source": [
    "oof_19 = pd.read_csv(\"../input/uspppmoofcv/USPPPM-oof/electra.csv\")\n",
    "target = oof_19['score'].values\n",
    "pred = oof_19['pred'].values\n",
    "oof_score = get_score(target, pred)\n",
    "print(f\"Local CV: {oof_score} ELECTRA\")"
   ]
  },
  {
   "cell_type": "code",
   "execution_count": 23,
   "id": "3e1d376b",
   "metadata": {
    "execution": {
     "iopub.execute_input": "2022-06-13T14:03:12.710255Z",
     "iopub.status.busy": "2022-06-13T14:03:12.709598Z",
     "iopub.status.idle": "2022-06-13T14:03:12.997263Z",
     "shell.execute_reply": "2022-06-13T14:03:12.993710Z"
    },
    "papermill": {
     "duration": 0.31799,
     "end_time": "2022-06-13T14:03:13.002526",
     "exception": false,
     "start_time": "2022-06-13T14:03:12.684536",
     "status": "completed"
    },
    "tags": [],
    "pycharm": {
     "name": "#%%\n"
    }
   },
   "outputs": [
    {
     "name": "stdout",
     "output_type": "stream",
     "text": [
      "Local CV: 0.8399272873005917 ernie\n"
     ]
    }
   ],
   "source": [
    "oof_20 = pd.read_csv(\"../input/uspppmoofcv/USPPPM-oof/ernie.csv\")\n",
    "target = oof_20['score'].values\n",
    "pred = oof_20['pred'].values\n",
    "oof_score = get_score(target, pred)\n",
    "print(f\"Local CV: {oof_score} ernie\")"
   ]
  },
  {
   "cell_type": "code",
   "execution_count": 24,
   "id": "85911a24",
   "metadata": {
    "execution": {
     "iopub.execute_input": "2022-06-13T14:03:13.068366Z",
     "iopub.status.busy": "2022-06-13T14:03:13.067753Z",
     "iopub.status.idle": "2022-06-13T14:03:13.356270Z",
     "shell.execute_reply": "2022-06-13T14:03:13.353541Z"
    },
    "papermill": {
     "duration": 0.333134,
     "end_time": "2022-06-13T14:03:13.359659",
     "exception": false,
     "start_time": "2022-06-13T14:03:13.026525",
     "status": "completed"
    },
    "tags": [],
    "pycharm": {
     "name": "#%%\n"
    }
   },
   "outputs": [
    {
     "name": "stdout",
     "output_type": "stream",
     "text": [
      "Local CV: 0.8504554730732499 funnel\n"
     ]
    }
   ],
   "source": [
    "oof_21 = pd.read_csv(\"../input/uspppmoofcv/USPPPM-oof/funnel.csv\")\n",
    "target = oof_21['score'].values\n",
    "pred = oof_21['pred'].values\n",
    "oof_score = get_score(target, pred)\n",
    "print(f\"Local CV: {oof_score} funnel\")"
   ]
  },
  {
   "cell_type": "code",
   "execution_count": 25,
   "id": "b4d83440",
   "metadata": {
    "execution": {
     "iopub.execute_input": "2022-06-13T14:03:13.410597Z",
     "iopub.status.busy": "2022-06-13T14:03:13.409994Z",
     "iopub.status.idle": "2022-06-13T14:03:13.698648Z",
     "shell.execute_reply": "2022-06-13T14:03:13.695679Z"
    },
    "papermill": {
     "duration": 0.318002,
     "end_time": "2022-06-13T14:03:13.702059",
     "exception": false,
     "start_time": "2022-06-13T14:03:13.384057",
     "status": "completed"
    },
    "tags": [],
    "pycharm": {
     "name": "#%%\n"
    }
   },
   "outputs": [
    {
     "name": "stdout",
     "output_type": "stream",
     "text": [
      "Local CV: 0.837563633004471 luke\n"
     ]
    }
   ],
   "source": [
    "oof_22 = pd.read_csv(\"../input/uspppmoofcv/USPPPM-oof/luke.csv\")\n",
    "target = oof_22['score'].values\n",
    "pred = oof_22['pred'].values\n",
    "oof_score = get_score(target, pred)\n",
    "print(f\"Local CV: {oof_score} luke\")"
   ]
  },
  {
   "cell_type": "code",
   "execution_count": 26,
   "id": "6b82a22f",
   "metadata": {
    "execution": {
     "iopub.execute_input": "2022-06-13T14:03:13.752518Z",
     "iopub.status.busy": "2022-06-13T14:03:13.751935Z",
     "iopub.status.idle": "2022-06-13T14:03:14.060973Z",
     "shell.execute_reply": "2022-06-13T14:03:14.055967Z"
    },
    "papermill": {
     "duration": 0.339948,
     "end_time": "2022-06-13T14:03:14.065782",
     "exception": false,
     "start_time": "2022-06-13T14:03:13.725834",
     "status": "completed"
    },
    "tags": [],
    "pycharm": {
     "name": "#%%\n"
    }
   },
   "outputs": [
    {
     "name": "stdout",
     "output_type": "stream",
     "text": [
      "Local CV: 0.8342155136138923 bart\n"
     ]
    }
   ],
   "source": [
    "oof_23 = pd.read_csv(\"../input/uspppmoofcv/USPPPM-oof/bart.csv\")\n",
    "target = oof_23['score'].values\n",
    "pred = oof_23['pred'].values\n",
    "oof_score = get_score(target, pred)\n",
    "print(f\"Local CV: {oof_score} bart\")"
   ]
  },
  {
   "cell_type": "code",
   "execution_count": 27,
   "id": "2326a387",
   "metadata": {
    "execution": {
     "iopub.execute_input": "2022-06-13T14:03:14.116888Z",
     "iopub.status.busy": "2022-06-13T14:03:14.116275Z",
     "iopub.status.idle": "2022-06-13T14:03:14.407155Z",
     "shell.execute_reply": "2022-06-13T14:03:14.405149Z"
    },
    "papermill": {
     "duration": 0.321695,
     "end_time": "2022-06-13T14:03:14.412483",
     "exception": false,
     "start_time": "2022-06-13T14:03:14.090788",
     "status": "completed"
    },
    "tags": [],
    "pycharm": {
     "name": "#%%\n"
    }
   },
   "outputs": [
    {
     "name": "stdout",
     "output_type": "stream",
     "text": [
      "Local CV: 0.8469819496060206 deberta-v1-large\n"
     ]
    }
   ],
   "source": [
    "oof_24 = pd.read_csv(\"../input/uspppmoofcv/USPPPM-oof/deberta-v1.csv\")\n",
    "target = oof_24['score'].values\n",
    "pred = oof_24['pred'].values\n",
    "oof_score = get_score(target, pred)\n",
    "print(f\"Local CV: {oof_score} deberta-v1-large\")"
   ]
  },
  {
   "cell_type": "code",
   "execution_count": 28,
   "id": "c7309e6b",
   "metadata": {
    "execution": {
     "iopub.execute_input": "2022-06-13T14:03:14.471302Z",
     "iopub.status.busy": "2022-06-13T14:03:14.470485Z",
     "iopub.status.idle": "2022-06-13T14:03:14.488593Z",
     "shell.execute_reply": "2022-06-13T14:03:14.487218Z"
    },
    "papermill": {
     "duration": 0.059697,
     "end_time": "2022-06-13T14:03:14.497628",
     "exception": false,
     "start_time": "2022-06-13T14:03:14.437931",
     "status": "completed"
    },
    "tags": [],
    "pycharm": {
     "name": "#%%\n"
    }
   },
   "outputs": [],
   "source": [
    "pred1 = oof_1['pred'].values\n",
    "pred2 = oof_2['pred'].values\n",
    "pred3 = oof_3['pred'].values\n",
    "pred4 = oof_4['pred'].values\n",
    "pred5 = oof_5['pred'].values\n",
    "pred6 = oof_6['pred'].values\n",
    "pred7 = oof_7['pred'].values\n",
    "pred8 = oof_8['pred'].values\n",
    "pred9 = oof_9['pred'].values\n",
    "pred10 = oof_10['pred'].values\n",
    "pred11 = oof_11['pred'].values\n",
    "pred12 = oof_12['pred'].values\n",
    "pred13 = oof_13['pred'].values\n",
    "pred14 = oof_14['pred'].values\n",
    "pred15 = oof_15['pred'].values\n",
    "pred16 = oof_16['pred'].values\n",
    "pred17 = oof_17['pred'].values\n",
    "pred18 = oof_18['pred'].values\n",
    "pred19 = oof_19['pred'].values\n",
    "pred20 = oof_20['pred'].values\n",
    "pred21 = oof_21['pred'].values\n",
    "pred22 = oof_22['pred'].values\n",
    "pred23 = oof_23['pred'].values\n",
    "pred24 = oof_24['pred'].values"
   ]
  },
  {
   "cell_type": "code",
   "execution_count": 29,
   "id": "db33ae99",
   "metadata": {
    "execution": {
     "iopub.execute_input": "2022-06-13T14:03:14.546572Z",
     "iopub.status.busy": "2022-06-13T14:03:14.545905Z",
     "iopub.status.idle": "2022-06-13T14:03:14.551269Z",
     "shell.execute_reply": "2022-06-13T14:03:14.550363Z"
    },
    "papermill": {
     "duration": 0.033266,
     "end_time": "2022-06-13T14:03:14.553355",
     "exception": false,
     "start_time": "2022-06-13T14:03:14.520089",
     "status": "completed"
    },
    "tags": [],
    "pycharm": {
     "name": "#%%\n"
    }
   },
   "outputs": [],
   "source": [
    "#w1+w2+w3+w4+w5+w6+w7+w8+w9+w10+w11+w12+w13+w18+w19"
   ]
  },
  {
   "cell_type": "code",
   "execution_count": 30,
   "id": "1b668814",
   "metadata": {
    "execution": {
     "iopub.execute_input": "2022-06-13T14:03:14.581894Z",
     "iopub.status.busy": "2022-06-13T14:03:14.581222Z",
     "iopub.status.idle": "2022-06-13T14:03:14.584993Z",
     "shell.execute_reply": "2022-06-13T14:03:14.584257Z"
    },
    "papermill": {
     "duration": 0.020942,
     "end_time": "2022-06-13T14:03:14.587562",
     "exception": false,
     "start_time": "2022-06-13T14:03:14.566620",
     "status": "completed"
    },
    "tags": [],
    "pycharm": {
     "name": "#%%\n"
    }
   },
   "outputs": [],
   "source": [
    "import math"
   ]
  },
  {
   "cell_type": "code",
   "execution_count": 31,
   "id": "21be40dd",
   "metadata": {
    "execution": {
     "iopub.execute_input": "2022-06-13T14:03:14.617611Z",
     "iopub.status.busy": "2022-06-13T14:03:14.617215Z",
     "iopub.status.idle": "2022-06-13T14:03:14.622216Z",
     "shell.execute_reply": "2022-06-13T14:03:14.621236Z"
    },
    "papermill": {
     "duration": 0.021418,
     "end_time": "2022-06-13T14:03:14.624386",
     "exception": false,
     "start_time": "2022-06-13T14:03:14.602968",
     "status": "completed"
    },
    "tags": [],
    "pycharm": {
     "name": "#%%\n"
    }
   },
   "outputs": [],
   "source": [
    "def inverse(x):\n",
    "    return -math.log((1 / (x + 1e-8)) - 1)"
   ]
  },
  {
   "cell_type": "code",
   "execution_count": 32,
   "id": "61f4385c",
   "metadata": {
    "execution": {
     "iopub.execute_input": "2022-06-13T14:03:14.660128Z",
     "iopub.status.busy": "2022-06-13T14:03:14.659371Z",
     "iopub.status.idle": "2022-06-13T14:03:14.953253Z",
     "shell.execute_reply": "2022-06-13T14:03:14.952517Z"
    },
    "papermill": {
     "duration": 0.315756,
     "end_time": "2022-06-13T14:03:14.955390",
     "exception": false,
     "start_time": "2022-06-13T14:03:14.639634",
     "status": "completed"
    },
    "tags": [],
    "pycharm": {
     "name": "#%%\n"
    }
   },
   "outputs": [],
   "source": [
    "for a in [pred14, pred15, pred16, pred17]:\n",
    "    for i in range(len(a)):\n",
    "        a[i] = inverse(a[i])"
   ]
  },
  {
   "cell_type": "markdown",
   "id": "7f5a8cad",
   "metadata": {
    "papermill": {
     "duration": 0.01287,
     "end_time": "2022-06-13T14:03:14.987910",
     "exception": false,
     "start_time": "2022-06-13T14:03:14.975040",
     "status": "completed"
    },
    "tags": [],
    "pycharm": {
     "name": "#%% md\n"
    }
   },
   "source": [
    "# BCE + MSE(Inverse)"
   ]
  },
  {
   "cell_type": "code",
   "execution_count": 33,
   "id": "82c7f7fb",
   "metadata": {
    "execution": {
     "iopub.execute_input": "2022-06-13T14:03:15.016389Z",
     "iopub.status.busy": "2022-06-13T14:03:15.015285Z",
     "iopub.status.idle": "2022-06-13T14:03:15.025945Z",
     "shell.execute_reply": "2022-06-13T14:03:15.024640Z"
    },
    "papermill": {
     "duration": 0.02833,
     "end_time": "2022-06-13T14:03:15.029217",
     "exception": false,
     "start_time": "2022-06-13T14:03:15.000887",
     "status": "completed"
    },
    "tags": [],
    "pycharm": {
     "name": "#%%\n"
    }
   },
   "outputs": [],
   "source": [
    "Y = np.stack([pred1, pred3, pred4, pred6, pred7, pred8, pred10, pred11, pred12, pred13, pred16, pred18, pred19, pred20, pred21, pred22, pred23]).T"
   ]
  },
  {
   "cell_type": "code",
   "execution_count": 34,
   "id": "886fc7b6",
   "metadata": {
    "execution": {
     "iopub.execute_input": "2022-06-13T14:03:15.061352Z",
     "iopub.status.busy": "2022-06-13T14:03:15.059915Z",
     "iopub.status.idle": "2022-06-13T14:03:18.233607Z",
     "shell.execute_reply": "2022-06-13T14:03:18.232555Z"
    },
    "papermill": {
     "duration": 3.192392,
     "end_time": "2022-06-13T14:03:18.237543",
     "exception": false,
     "start_time": "2022-06-13T14:03:15.045151",
     "status": "completed"
    },
    "tags": [],
    "pycharm": {
     "name": "#%%\n"
    }
   },
   "outputs": [
    {
     "name": "stdout",
     "output_type": "stream",
     "text": [
      "0.8838650207947062\n",
      "[0.03605261 0.18962274 0.11517471 0.13769397 0.01575894 0.08336175\n",
      " 0.02831863 0.05526383 0.00992199 0.02017179 0.03500124 0.0057002\n",
      " 0.06964565 0.03321846 0.07020563 0.02133232 0.01152879]\n"
     ]
    }
   ],
   "source": [
    "from functools import partial\n",
    "import scipy\n",
    "s=17\n",
    "def my_loss(weight, y_hat, y):\n",
    "#     print(type(weight))\n",
    "#     print(weight.shape)\n",
    "    pred = y_hat.dot(weight)\n",
    "    score = get_score(y, pred)\n",
    "#     print(score)\n",
    "    return -score\n",
    "\n",
    "def get_weights(y_hat, y):\n",
    "    size = s\n",
    "    loss_partial = partial(my_loss, y_hat=y_hat, y=y)\n",
    "    initial_weights = [1/s for _ in range(size)]\n",
    "    weights_ = scipy.optimize.minimize(loss_partial, initial_weights, method='Nelder-Mead')\n",
    "    print(-weights_['fun'])\n",
    "    return weights_['x']\n",
    "\n",
    "weights = get_weights(Y, target)\n",
    "print(weights)"
   ]
  },
  {
   "cell_type": "code",
   "execution_count": 35,
   "id": "55706fab",
   "metadata": {
    "execution": {
     "iopub.execute_input": "2022-06-13T14:03:18.290181Z",
     "iopub.status.busy": "2022-06-13T14:03:18.288553Z",
     "iopub.status.idle": "2022-06-13T14:03:18.297787Z",
     "shell.execute_reply": "2022-06-13T14:03:18.296712Z"
    },
    "papermill": {
     "duration": 0.038692,
     "end_time": "2022-06-13T14:03:18.300808",
     "exception": false,
     "start_time": "2022-06-13T14:03:18.262116",
     "status": "completed"
    },
    "tags": [],
    "pycharm": {
     "name": "#%%\n"
    }
   },
   "outputs": [
    {
     "data": {
      "text/plain": [
       "0.9379732657945714"
      ]
     },
     "execution_count": 35,
     "metadata": {},
     "output_type": "execute_result"
    }
   ],
   "source": [
    "weights.sum()"
   ]
  },
  {
   "cell_type": "markdown",
   "id": "2017f409",
   "metadata": {
    "papermill": {
     "duration": 0.023953,
     "end_time": "2022-06-13T14:03:18.350258",
     "exception": false,
     "start_time": "2022-06-13T14:03:18.326305",
     "status": "completed"
    },
    "tags": [],
    "pycharm": {
     "name": "#%% md\n"
    }
   },
   "source": [
    "# BCE Only"
   ]
  },
  {
   "cell_type": "code",
   "execution_count": 36,
   "id": "0127414c",
   "metadata": {
    "execution": {
     "iopub.execute_input": "2022-06-13T14:03:18.379103Z",
     "iopub.status.busy": "2022-06-13T14:03:18.378004Z",
     "iopub.status.idle": "2022-06-13T14:03:18.387306Z",
     "shell.execute_reply": "2022-06-13T14:03:18.386225Z"
    },
    "papermill": {
     "duration": 0.026353,
     "end_time": "2022-06-13T14:03:18.389713",
     "exception": false,
     "start_time": "2022-06-13T14:03:18.363360",
     "status": "completed"
    },
    "tags": [],
    "pycharm": {
     "name": "#%%\n"
    }
   },
   "outputs": [],
   "source": [
    "X = np.stack([pred1, pred2, pred3, pred4, pred6, pred7, pred8, pred10, pred11, pred12, pred13, pred18, pred19, pred20, pred21, pred22, pred23, pred24]).T"
   ]
  },
  {
   "cell_type": "code",
   "execution_count": 37,
   "id": "99e41435",
   "metadata": {
    "execution": {
     "iopub.execute_input": "2022-06-13T14:03:18.417431Z",
     "iopub.status.busy": "2022-06-13T14:03:18.416889Z",
     "iopub.status.idle": "2022-06-13T14:03:22.126520Z",
     "shell.execute_reply": "2022-06-13T14:03:22.125408Z"
    },
    "papermill": {
     "duration": 3.727422,
     "end_time": "2022-06-13T14:03:22.130273",
     "exception": false,
     "start_time": "2022-06-13T14:03:18.402851",
     "status": "completed"
    },
    "tags": [],
    "pycharm": {
     "name": "#%%\n"
    }
   },
   "outputs": [
    {
     "name": "stdout",
     "output_type": "stream",
     "text": [
      "0.8838137553772151\n",
      "[ 0.03623051  0.00660016  0.19083332  0.12101952  0.14779582  0.01889046\n",
      "  0.08372124  0.03038976  0.05970723  0.00864443  0.02165478  0.00576\n",
      "  0.07785031  0.03110616  0.07009623  0.02001455  0.01876848 -0.01056554]\n"
     ]
    }
   ],
   "source": [
    "from functools import partial\n",
    "import scipy\n",
    "s=18\n",
    "def my_loss(weight, y_hat, y):\n",
    "#     print(type(weight))\n",
    "#     print(weight.shape)\n",
    "    pred = y_hat.dot(weight)\n",
    "    score = get_score(y, pred)\n",
    "#     print(score)\n",
    "    return -score\n",
    "\n",
    "def get_weights(y_hat, y):\n",
    "    size = s\n",
    "    loss_partial = partial(my_loss, y_hat=y_hat, y=y)\n",
    "    initial_weights = [1/s for _ in range(size)]\n",
    "    weights_ = scipy.optimize.minimize(loss_partial, initial_weights, method='Nelder-Mead')\n",
    "    print(-weights_['fun'])\n",
    "    return weights_['x']\n",
    "\n",
    "weights = get_weights(X, target)\n",
    "print(weights)"
   ]
  },
  {
   "cell_type": "code",
   "execution_count": 38,
   "id": "46eb1a49",
   "metadata": {
    "execution": {
     "iopub.execute_input": "2022-06-13T14:03:22.181757Z",
     "iopub.status.busy": "2022-06-13T14:03:22.180847Z",
     "iopub.status.idle": "2022-06-13T14:03:22.189118Z",
     "shell.execute_reply": "2022-06-13T14:03:22.188197Z"
    },
    "papermill": {
     "duration": 0.037424,
     "end_time": "2022-06-13T14:03:22.192474",
     "exception": false,
     "start_time": "2022-06-13T14:03:22.155050",
     "status": "completed"
    },
    "tags": [],
    "pycharm": {
     "name": "#%%\n"
    }
   },
   "outputs": [
    {
     "data": {
      "text/plain": [
       "0.9385174011021179"
      ]
     },
     "execution_count": 38,
     "metadata": {},
     "output_type": "execute_result"
    }
   ],
   "source": [
    "weights.sum()"
   ]
  },
  {
   "cell_type": "code",
   "execution_count": null,
   "id": "7a37404e",
   "metadata": {
    "execution": {
     "iopub.execute_input": "2022-06-13T09:17:57.070625Z",
     "iopub.status.busy": "2022-06-13T09:17:57.070175Z",
     "iopub.status.idle": "2022-06-13T09:17:57.078112Z",
     "shell.execute_reply": "2022-06-13T09:17:57.077214Z",
     "shell.execute_reply.started": "2022-06-13T09:17:57.070571Z"
    },
    "papermill": {
     "duration": 0.023946,
     "end_time": "2022-06-13T14:03:22.241714",
     "exception": false,
     "start_time": "2022-06-13T14:03:22.217768",
     "status": "completed"
    },
    "tags": [],
    "pycharm": {
     "name": "#%%\n"
    }
   },
   "outputs": [],
   "source": []
  },
  {
   "cell_type": "code",
   "execution_count": null,
   "id": "1b321e6b",
   "metadata": {
    "papermill": {
     "duration": 0.012746,
     "end_time": "2022-06-13T14:03:22.268447",
     "exception": false,
     "start_time": "2022-06-13T14:03:22.255701",
     "status": "completed"
    },
    "tags": [],
    "pycharm": {
     "name": "#%%\n"
    }
   },
   "outputs": [],
   "source": []
  }
 ],
 "metadata": {
  "kernelspec": {
   "display_name": "Python 3",
   "language": "python",
   "name": "python3"
  },
  "language_info": {
   "codemirror_mode": {
    "name": "ipython",
    "version": 3
   },
   "file_extension": ".py",
   "mimetype": "text/x-python",
   "name": "python",
   "nbconvert_exporter": "python",
   "pygments_lexer": "ipython3",
   "version": "3.7.12"
  },
  "papermill": {
   "default_parameters": {},
   "duration": 28.120278,
   "end_time": "2022-06-13T14:03:23.103468",
   "environment_variables": {},
   "exception": null,
   "input_path": "__notebook__.ipynb",
   "output_path": "__notebook__.ipynb",
   "parameters": {},
   "start_time": "2022-06-13T14:02:54.983190",
   "version": "2.3.4"
  }
 },
 "nbformat": 4,
 "nbformat_minor": 5
}